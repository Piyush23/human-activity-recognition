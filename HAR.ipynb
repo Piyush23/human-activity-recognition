{
  "nbformat": 4,
  "nbformat_minor": 0,
  "metadata": {
    "colab": {
      "name": "HAR.ipynb",
      "version": "0.3.2",
      "provenance": [],
      "collapsed_sections": [
        "yPOd7rQBy381",
        "Xj4r_je-d5ga",
        "luKR7OhyL6GG",
        "EGGVIYLTBUjL",
        "WEO5NRk2Boh1",
        "ynX6JFqJ5Xk4",
        "WECI0ePO_6qq",
        "Si7M8U3Rr3QS",
        "qxEl0dkr-g75"
      ],
      "toc_visible": true
    },
    "kernelspec": {
      "name": "python3",
      "display_name": "Python 3"
    },
    "accelerator": "TPU"
  },
  "cells": [
    {
      "metadata": {
        "id": "bJnJnbQuFKqj",
        "colab_type": "text"
      },
      "cell_type": "markdown",
      "source": [
        "## **Imports**"
      ]
    },
    {
      "metadata": {
        "id": "6Vs6gE1viTPS",
        "colab_type": "code",
        "colab": {}
      },
      "cell_type": "code",
      "source": [
        "# imports\n",
        "\n",
        "import numpy as np\n",
        "import pandas as pd\n",
        "import seaborn as sns\n",
        "import matplotlib.pyplot as plt\n",
        "import pickle\n",
        "import sys\n",
        "import math   \n",
        "from sklearn import preprocessing\n",
        "from sklearn.model_selection import train_test_split\n",
        "from sklearn.metrics import roc_auc_score, accuracy_score, precision_score, recall_score, f1_score\n",
        "from sklearn.linear_model import LogisticRegression\n",
        "from sklearn.tree import DecisionTreeClassifier\n",
        "from sklearn.svm import SVC\n",
        "from sklearn.ensemble import RandomForestClassifier\n",
        "from sklearn.discriminant_analysis import LinearDiscriminantAnalysis, QuadraticDiscriminantAnalysis\n",
        "from sklearn.cluster import KMeans\n",
        "from sklearn.neighbors import KNeighborsClassifier\n",
        "from sklearn.naive_bayes import GaussianNB\n",
        "from sklearn.metrics import precision_recall_fscore_support\n",
        "from sklearn.metrics import mean_squared_error as mse\n",
        "from sklearn.preprocessing import StandardScaler\n",
        "from sklearn.model_selection import cross_validate\n",
        "from sklearn.model_selection import train_test_split\n",
        "from sklearn.ensemble import ExtraTreesClassifier\n",
        "from sklearn.feature_selection import SelectFromModel\n",
        "from sklearn.svm import LinearSVC\n",
        "from sklearn.ensemble import VotingClassifier\n",
        "from sklearn.feature_selection import RFECV"
      ],
      "execution_count": 0,
      "outputs": []
    },
    {
      "metadata": {
        "id": "kYmc0vv58NtV",
        "colab_type": "code",
        "colab": {}
      },
      "cell_type": "code",
      "source": [
        "import warnings\n",
        "warnings.filterwarnings('ignore')"
      ],
      "execution_count": 0,
      "outputs": []
    },
    {
      "metadata": {
        "id": "m6Ce4mIYF1ev",
        "colab_type": "text"
      },
      "cell_type": "markdown",
      "source": [
        "## Constants"
      ]
    },
    {
      "metadata": {
        "id": "k8DjDGOdF6pl",
        "colab_type": "code",
        "colab": {}
      },
      "cell_type": "code",
      "source": [
        "#Activity label\n",
        "activity_writing = 1\n",
        "activity_pause = 0"
      ],
      "execution_count": 0,
      "outputs": []
    },
    {
      "metadata": {
        "id": "r7_qXzIORw1n",
        "colab_type": "code",
        "colab": {}
      },
      "cell_type": "code",
      "source": [
        "#Sensor labels\n",
        "sensor_a = 'Accelerometer Sensor'\n",
        "sensor_la = 'Linear Acceleration Sensor'\n",
        "sensor_g = 'Gyro Sensor'"
      ],
      "execution_count": 0,
      "outputs": []
    },
    {
      "metadata": {
        "id": "D5mDRs4IlUOQ",
        "colab_type": "code",
        "colab": {}
      },
      "cell_type": "code",
      "source": [
        "#sensor constants\n",
        "NUM_OF_SENSORS = 3\n",
        "FREQUENCY = 50"
      ],
      "execution_count": 0,
      "outputs": []
    },
    {
      "metadata": {
        "id": "zpkwgWKGhyfZ",
        "colab_type": "code",
        "colab": {}
      },
      "cell_type": "code",
      "source": [
        "ONE_KB_IN_BYTES = 1024"
      ],
      "execution_count": 0,
      "outputs": []
    },
    {
      "metadata": {
        "id": "k02qvxx-8PI8",
        "colab_type": "code",
        "colab": {}
      },
      "cell_type": "code",
      "source": [
        "TRIM_ENDS = False"
      ],
      "execution_count": 0,
      "outputs": []
    },
    {
      "metadata": {
        "id": "PsUkHSmD8u4D",
        "colab_type": "code",
        "colab": {}
      },
      "cell_type": "code",
      "source": [
        "CREATE_WINDOW = False\n",
        "WINDOW_SIZE = 10"
      ],
      "execution_count": 0,
      "outputs": []
    },
    {
      "metadata": {
        "id": "yamBiBZW8uRL",
        "colab_type": "text"
      },
      "cell_type": "markdown",
      "source": [
        "### Experiment selector"
      ]
    },
    {
      "metadata": {
        "id": "tyXWH90A8y1H",
        "colab_type": "code",
        "colab": {}
      },
      "cell_type": "code",
      "source": [
        "#Select a number from 1 to 5\n",
        "EXPERIMENT_NUMBER = 1"
      ],
      "execution_count": 0,
      "outputs": []
    },
    {
      "metadata": {
        "id": "yPOd7rQBy381",
        "colab_type": "text"
      },
      "cell_type": "markdown",
      "source": [
        "## **Linking notebook to drive**"
      ]
    },
    {
      "metadata": {
        "id": "VKDZn_YhylmX",
        "colab_type": "code",
        "outputId": "244e31f7-c8dd-4f16-fe87-02095d6b0c9d",
        "colab": {
          "base_uri": "https://localhost:8080/",
          "height": 125
        }
      },
      "cell_type": "code",
      "source": [
        "from google.colab import drive\n",
        "drive.mount('/content/drive')"
      ],
      "execution_count": 10,
      "outputs": [
        {
          "output_type": "stream",
          "text": [
            "Go to this URL in a browser: https://accounts.google.com/o/oauth2/auth?client_id=947318989803-6bn6qk8qdgf4n4g3pfee6491hc0brc4i.apps.googleusercontent.com&redirect_uri=urn%3Aietf%3Awg%3Aoauth%3A2.0%3Aoob&scope=email%20https%3A%2F%2Fwww.googleapis.com%2Fauth%2Fdocs.test%20https%3A%2F%2Fwww.googleapis.com%2Fauth%2Fdrive%20https%3A%2F%2Fwww.googleapis.com%2Fauth%2Fdrive.photos.readonly%20https%3A%2F%2Fwww.googleapis.com%2Fauth%2Fpeopleapi.readonly&response_type=code\n",
            "\n",
            "Enter your authorization code:\n",
            "··········\n",
            "Mounted at /content/drive\n"
          ],
          "name": "stdout"
        }
      ]
    },
    {
      "metadata": {
        "id": "rX20YM6Xyw4d",
        "colab_type": "code",
        "colab": {}
      },
      "cell_type": "code",
      "source": [
        "#uncomment when running after a gap\n",
        "# !pip install bcolz"
      ],
      "execution_count": 0,
      "outputs": []
    },
    {
      "metadata": {
        "id": "bhJpHtgWpTbk",
        "colab_type": "text"
      },
      "cell_type": "markdown",
      "source": [
        "## Pre Processing"
      ]
    },
    {
      "metadata": {
        "id": "bUwVQBfYxpzn",
        "colab_type": "code",
        "colab": {}
      },
      "cell_type": "code",
      "source": [
        "def preProcessWithoutWindows(df, activity):\n",
        "  a_x = []\n",
        "  a_y = []\n",
        "  a_z = []\n",
        "  g_x = []\n",
        "  g_y = []\n",
        "  g_z = []\n",
        "  a_time = []\n",
        "  g_time = []\n",
        "  for row in df.iterrows():\n",
        "      if(row[1]['sensor'] == 'Accelerometer Sensor'):\n",
        "        a_x.append(row[1]['x'])\n",
        "        a_y.append(row[1]['y'])\n",
        "        a_z.append(row[1]['y'])\n",
        "        a_time.append(row[1]['time'])\n",
        "\n",
        "      if(row[1]['sensor'] == 'Gyro Sensor'):\n",
        "        g_x.append(row[1]['x'])\n",
        "        g_y.append(row[1]['y'])\n",
        "        g_z.append(row[1]['y'])\n",
        "        g_time.append(row[1]['time'])\n",
        "\n",
        "  a_len = len(a_x)\n",
        "  g_len = len(g_x)\n",
        "\n",
        "  if(a_len > g_len):\n",
        "    a_x = a_x[:g_len]\n",
        "    a_y = a_y[:g_len]\n",
        "    a_z = a_z[:g_len]\n",
        "    a_time = a_time[:g_len]\n",
        "\n",
        "  if(a_len < g_len):\n",
        "    g_x = g_x[:a_len]\n",
        "    g_y = g_y[:a_len]\n",
        "    g_z = g_z[:a_len]\n",
        "    g_time = g_time[:a_len]\n",
        "\n",
        "  #avg time\n",
        "  timestamp = [(x+y)/2 for x,y in zip(a_time, g_time)]\n",
        "  \n",
        "  df = pd.DataFrame({'time': timestamp, 'a_x': a_x,'a_y': a_y, 'a_z': a_z, 'g_x': g_x,'g_y': g_y, 'g_z': g_z})\n",
        "  df['activity'] = activity\n",
        "  df['time'] = pd.to_datetime(df['time'], unit='ms')\n",
        "  print(df.columns)\n",
        "  return df"
      ],
      "execution_count": 0,
      "outputs": []
    },
    {
      "metadata": {
        "id": "w8hW83Ujpang",
        "colab_type": "code",
        "colab": {}
      },
      "cell_type": "code",
      "source": [
        "def preProcessData(df, activity):\n",
        "  \n",
        "  #remove linear acceleration - senson not capturing correctly\n",
        "  df = df[df.sensor != 'Linear Acceleration Sensor']\n",
        "\n",
        "  #sort based on time\n",
        "  df = df.sort_values(by=[\"time\"])\n",
        "\n",
        "  #trim ends\n",
        "  if(TRIM_ENDS == True):\n",
        "    df = trimEnds(df)\n",
        "  \n",
        "  if(CREATE_WINDOW == True):\n",
        "    df = preProcessWithManualWindows(df, activity, WINDOW_SIZE)\n",
        "  else:\n",
        "    df = preProcessWithoutWindows(df, activity)\n",
        "  print(df.head())\n",
        "  return df"
      ],
      "execution_count": 0,
      "outputs": []
    },
    {
      "metadata": {
        "id": "OOolJS_fP3TM",
        "colab_type": "code",
        "colab": {}
      },
      "cell_type": "code",
      "source": [
        "def preProcessWithWindows(df, activity, windowSize): #window size in ms\n",
        "  \n",
        "  #remove linear acceleration - senson not capturing correctly\n",
        "  df = df[df.sensor != sen]\n",
        "  \n",
        "  #index by timestamp\n",
        "  df = df.set_index(df.time)\n",
        "  \n",
        "  #extracting columns -- later change for different sensors\n",
        "  df = df[['time','x','y','z']]\n",
        "  \n",
        "  #resample\n",
        "  df = df.resample('10L')\n",
        "  \n",
        "  #creating windows\n",
        "#   df['time'] = pd.to_datetime(df['time'], unit='ms')\n",
        "#   df = df.groupby(Grouper(key='time', freq='L'))\n",
        "  \n",
        "  \n",
        "  #remove linear acceleration - senson not capturing correctly\n",
        "#   df = df[df.sensor != 'Linear Acceleration Sensor']\n",
        "  \n",
        "  #sort based on time\n",
        "#   df = df.sort_values(by=[\"time\"])\n",
        "  \n",
        "  return df\n",
        "#   window_start = \n",
        "#   for data in df:\n",
        "    "
      ],
      "execution_count": 0,
      "outputs": []
    },
    {
      "metadata": {
        "id": "wn0fw6BmrPT4",
        "colab_type": "code",
        "colab": {}
      },
      "cell_type": "code",
      "source": [
        "def createWindow(df):\n",
        "  #setting timestamps for 10 ms window\n",
        "  # new_time = time - (MOD(time,10))\n",
        "  df['time'] = df['time'].apply(lambda x: (x - (x % WINDOW_SIZE)) )\n",
        "  \n",
        "  #convert to timestamp\n",
        "  df['time'] = pd.to_datetime(df['time'], unit='ms')\n",
        "  \n",
        "  #groupby\n",
        "  return df.groupby(['time']).mean()"
      ],
      "execution_count": 0,
      "outputs": []
    },
    {
      "metadata": {
        "id": "WlVoykB8RaNx",
        "colab_type": "code",
        "colab": {}
      },
      "cell_type": "code",
      "source": [
        "def preProcessWithManualWindows(df, activity, windowSize): #window size in ms\n",
        "  #remove linear acceleration - senson not capturing correctly\n",
        "  df = df[df.sensor != sensor_la]\n",
        "  \n",
        "  #extract accelerometer\n",
        "  df_a = df[df.sensor == sensor_a]\n",
        "  \n",
        "  #extract gyro\n",
        "  df_g = df[df.sensor == sensor_g]\n",
        "  \n",
        "  df_a = createWindow(df_a)\n",
        "  df_g = createWindow(df_g)\n",
        "  \n",
        "  df_a = df_a.rename(columns={'x': 'a_x', 'y': 'a_y', 'z': 'a_z'})\n",
        "  df_g = df_g.rename(columns={'x': 'g_x', 'y': 'g_y', 'z': 'g_z'})\n",
        "#   print(df_a.head())\n",
        "  df = pd.merge(df_a, df_g, on='time')\n",
        "#   df = df.rename(columns={'time': 'timestamp', 'a_x': 'acc_x'})\n",
        "#   print(df.columns)\n",
        "#   print (df.head())\n",
        "  return df\n"
      ],
      "execution_count": 0,
      "outputs": []
    },
    {
      "metadata": {
        "id": "N6bljqSj9uk9",
        "colab_type": "code",
        "colab": {}
      },
      "cell_type": "code",
      "source": [
        "def trimEnds(df):\n",
        "  trim_values = FREQUENCY * NUM_OF_SENSORS\n",
        "  print('old shape: ', df.shape)\n",
        "  df = df.iloc[trim_values:]\n",
        "  df = df.iloc[:-trim_values]\n",
        "  print('new shape: ', df.shape)\n",
        "  return df"
      ],
      "execution_count": 0,
      "outputs": []
    },
    {
      "metadata": {
        "id": "jTzKo3UfzGVw",
        "colab_type": "text"
      },
      "cell_type": "markdown",
      "source": [
        "## **Loading dataset**"
      ]
    },
    {
      "metadata": {
        "id": "CrX9q-Tt6idT",
        "colab_type": "text"
      },
      "cell_type": "markdown",
      "source": [
        "### Writing data"
      ]
    },
    {
      "metadata": {
        "id": "Cc1zHGBm40zv",
        "colab_type": "code",
        "colab": {}
      },
      "cell_type": "code",
      "source": [
        "user_1_writing_data = ['2019_04_15_16_58_31_notebook.csv','2019_04_09_08_01_38_nopause_notebook.csv','2019_04_12_16_40_15_nopause_notebook.csv','notebook_day4_nopause.csv']\n",
        "\n",
        "user_2_writing_data = ['2019_04_12_22_33_09_user2_notebook.csv','2019_04_12_22_45_31_user2_notebook.csv','2019_04_12_22_51_18_user2_notebook.csv','2019_04_12_22_58_13_user2_notebook.csv','2019_04_12_23_27_03_user2_notebook.csv']"
      ],
      "execution_count": 0,
      "outputs": []
    },
    {
      "metadata": {
        "id": "sLMHfB0u66db",
        "colab_type": "text"
      },
      "cell_type": "markdown",
      "source": [
        "### Pause data"
      ]
    },
    {
      "metadata": {
        "id": "GZFo8yAk6-iz",
        "colab_type": "code",
        "colab": {}
      },
      "cell_type": "code",
      "source": [
        "#pause data for data assumed to be same\n",
        "user_1_pause_data = ['2019_04_13_01_32_24_pause.csv','2019_04_13_01_41_47_pause.csv','pause.csv']"
      ],
      "execution_count": 0,
      "outputs": []
    },
    {
      "metadata": {
        "id": "n9RbBJGJ7g-6",
        "colab_type": "text"
      },
      "cell_type": "markdown",
      "source": [
        "### Aggregating data"
      ]
    },
    {
      "metadata": {
        "id": "2JCVMd_T7kyN",
        "colab_type": "code",
        "colab": {}
      },
      "cell_type": "code",
      "source": [
        "#selecting data based on experiment\n",
        "if (EXPERIMENT_NUMBER == 1):\n",
        "  writing_data = user_1_writing_data\n",
        "  pause_data = user_1_pause_data\n",
        "elif (EXPERIMENT_NUMBER == 2):\n",
        "  writing_data = user_1_writing_data\n",
        "  pause_data = user_1_pause_data\n",
        "  testing_data = user_2_writing_data\n",
        "elif (EXPERIMENT_NUMBER == 3):\n",
        "  writing_data = user_2_writing_data\n",
        "  pause_data = user_1_pause_data\n",
        "elif (EXPERIMENT_NUMBER == 4):\n",
        "  writing_data = user_2_writing_data\n",
        "  pause_data = user_1_pause_data\n",
        "  testing_data = user_1_writing_data\n",
        "elif (EXPERIMENT_NUMBER == 5):\n",
        "  writing_data = user_1_writing_data + user_2_writing_data\n",
        "  pause_data = user_1_pause_data\n",
        "  "
      ],
      "execution_count": 0,
      "outputs": []
    },
    {
      "metadata": {
        "id": "JlzBwjXPHgSo",
        "colab_type": "code",
        "colab": {}
      },
      "cell_type": "code",
      "source": [
        "training_dataset_writing = writing_data\n",
        "training_dataset_pause = pause_data\n",
        "# testing_dataset = ['2019_04_12_23_27_03_user2_notebook.csv']\n",
        "testing_real_scenario = ['2019_04_19_12_13_15_1min30sec.csv']"
      ],
      "execution_count": 0,
      "outputs": []
    },
    {
      "metadata": {
        "id": "jCBhGQzg2p22",
        "colab_type": "code",
        "colab": {}
      },
      "cell_type": "code",
      "source": [
        "base_src = 'drive/My Drive/ProjectWork/Sem2/HAR/Dataset/renamed/'"
      ],
      "execution_count": 0,
      "outputs": []
    },
    {
      "metadata": {
        "id": "xaVXayi9lOgj",
        "colab_type": "text"
      },
      "cell_type": "markdown",
      "source": [
        "## Load data for training and testing"
      ]
    },
    {
      "metadata": {
        "id": "8hc7ujkpQtyN",
        "colab_type": "code",
        "colab": {}
      },
      "cell_type": "code",
      "source": [
        "df = pd.DataFrame()\n",
        "df_writing = pd.DataFrame()\n",
        "df_pause = pd.DataFrame()\n"
      ],
      "execution_count": 0,
      "outputs": []
    },
    {
      "metadata": {
        "id": "Bz0jVPAkEMAg",
        "colab_type": "code",
        "outputId": "de55cc19-643b-4ae5-ff14-033a539a85e0",
        "colab": {
          "base_uri": "https://localhost:8080/",
          "height": 1012
        }
      },
      "cell_type": "code",
      "source": [
        "for dataset in training_dataset_writing:\n",
        "  data = pd.read_csv(base_src + 'notebook/no_pause/'+dataset, delimiter = ',')\n",
        "  df_writing = pd.concat([df_writing,preProcessData(data, activity_writing)],keys=['x','y'],ignore_index=True)"
      ],
      "execution_count": 98,
      "outputs": [
        {
          "output_type": "stream",
          "text": [
            "Index(['time', 'a_x', 'a_y', 'a_z', 'g_x', 'g_y', 'g_z', 'activity'], dtype='object')\n",
            "                        time       a_x       a_y       a_z  g_x  g_y  g_z  \\\n",
            "0 2019-04-15 11:28:31.247000 -0.040103  0.395941  0.395941  0.0  0.0  0.0   \n",
            "1 2019-04-15 11:28:31.270500  2.346916  3.802890  3.802890  0.0  0.0  0.0   \n",
            "2 2019-04-15 11:28:31.301000 -0.040103  0.395941  0.395941  0.0  0.0  0.0   \n",
            "3 2019-04-15 11:28:31.310000  2.346916  3.802890  3.802890  0.0  0.0  0.0   \n",
            "4 2019-04-15 11:28:31.327000 -0.040103  0.395941  0.395941  0.0  0.0  0.0   \n",
            "\n",
            "   activity  \n",
            "0         1  \n",
            "1         1  \n",
            "2         1  \n",
            "3         1  \n",
            "4         1  \n",
            "Index(['time', 'a_x', 'a_y', 'a_z', 'g_x', 'g_y', 'g_z', 'activity'], dtype='object')\n",
            "                        time       a_x       a_y       a_z       g_x  \\\n",
            "0 2019-04-09 02:31:38.212500 -0.818218  1.384746  1.384746 -0.001502   \n",
            "1 2019-04-09 02:31:38.255000 -0.241216  3.889082  3.889082  0.016552   \n",
            "2 2019-04-09 02:31:38.267500 -0.818218  1.384746  1.384746 -0.001502   \n",
            "3 2019-04-09 02:31:38.297000 -0.241216  3.889082  3.889082  0.016552   \n",
            "4 2019-04-09 02:31:38.303500 -0.818218  1.384746  1.384746 -0.001502   \n",
            "\n",
            "        g_y       g_z  activity  \n",
            "0 -0.017894 -0.017894         1  \n",
            "1 -0.010460 -0.010460         1  \n",
            "2 -0.017894 -0.017894         1  \n",
            "3 -0.010460 -0.010460         1  \n",
            "4 -0.017894 -0.017894         1  \n",
            "Index(['time', 'a_x', 'a_y', 'a_z', 'g_x', 'g_y', 'g_z', 'activity'], dtype='object')\n",
            "                        time       a_x       a_y       a_z       g_x  \\\n",
            "0 2019-04-12 11:10:15.697000  0.544082  0.673669  0.673669  0.001684   \n",
            "1 2019-04-12 11:10:15.726000  0.484227  5.258565  5.258565  0.056908   \n",
            "2 2019-04-12 11:10:15.737500  0.544082  0.673669  0.673669  0.001684   \n",
            "3 2019-04-12 11:10:15.761500  0.484227  5.258565  5.258565  0.056908   \n",
            "4 2019-04-12 11:10:15.780000  0.544082  0.673669  0.673669  0.001684   \n",
            "\n",
            "        g_y       g_z  activity  \n",
            "0 -0.021080 -0.021080         1  \n",
            "1 -0.032762 -0.032762         1  \n",
            "2 -0.021080 -0.021080         1  \n",
            "3 -0.032762 -0.032762         1  \n",
            "4 -0.021080 -0.021080         1  \n",
            "Index(['time', 'a_x', 'a_y', 'a_z', 'g_x', 'g_y', 'g_z', 'activity'], dtype='object')\n",
            "                        time       a_x       a_y       a_z       g_x  \\\n",
            "0 2019-03-19 03:20:38.624500 -0.222062  0.362422  0.362422 -0.113013   \n",
            "1 2019-03-19 03:20:38.645000  0.524929  4.054281  4.054281  0.057970   \n",
            "2 2019-03-19 03:20:38.666500 -0.222062  0.362422  0.362422 -0.113013   \n",
            "3 2019-03-19 03:20:38.688500  0.524929  4.054281  4.054281  0.057970   \n",
            "4 2019-03-19 03:20:38.709500 -0.222062  0.362422  0.362422 -0.113013   \n",
            "\n",
            "        g_y       g_z  activity  \n",
            "0 -0.062498 -0.062498         1  \n",
            "1  0.124416  0.124416         1  \n",
            "2 -0.062498 -0.062498         1  \n",
            "3  0.124416  0.124416         1  \n",
            "4 -0.062498 -0.062498         1  \n"
          ],
          "name": "stdout"
        }
      ]
    },
    {
      "metadata": {
        "id": "b-XdK5-uEQWO",
        "colab_type": "code",
        "outputId": "c2955cb8-67f8-4a56-a46e-920dfe0d14f2",
        "colab": {
          "base_uri": "https://localhost:8080/",
          "height": 763
        }
      },
      "cell_type": "code",
      "source": [
        "for dataset in training_dataset_pause:\n",
        "  data = pd.read_csv(base_src + 'pause/'+dataset, delimiter = ',')\n",
        "  df_pause = pd.concat([df_pause,preProcessData(data, activity_pause)],keys=['x','y'],ignore_index=True)"
      ],
      "execution_count": 99,
      "outputs": [
        {
          "output_type": "stream",
          "text": [
            "Index(['time', 'a_x', 'a_y', 'a_z', 'g_x', 'g_y', 'g_z', 'activity'], dtype='object')\n",
            "                        time       a_x       a_y       a_z       g_x  \\\n",
            "0 2019-04-12 20:02:24.884000  0.201711  0.218770  0.218770 -0.282935   \n",
            "1 2019-04-12 20:02:24.906500  0.256778  2.483685  2.483685 -0.500648   \n",
            "2 2019-04-12 20:02:24.923500  0.201711  0.218770  0.218770 -0.282935   \n",
            "3 2019-04-12 20:02:24.946500  0.256778  2.483685  2.483685 -0.500648   \n",
            "4 2019-04-12 20:02:24.966500  0.201711  0.218770  0.218770 -0.282935   \n",
            "\n",
            "        g_y       g_z  activity  \n",
            "0  0.087245  0.087245         0  \n",
            "1  0.138222  0.138222         0  \n",
            "2  0.087245  0.087245         0  \n",
            "3  0.138222  0.138222         0  \n",
            "4  0.087245  0.087245         0  \n",
            "Index(['time', 'a_x', 'a_y', 'a_z', 'g_x', 'g_y', 'g_z', 'activity'], dtype='object')\n",
            "                        time       a_x       a_y       a_z       g_x  \\\n",
            "0 2019-04-12 20:11:47.571500 -2.628235 -7.344513 -7.344513 -0.014337   \n",
            "1 2019-04-12 20:11:47.595000  0.249596 -2.194585 -2.194585 -0.014337   \n",
            "2 2019-04-12 20:11:47.618000 -2.628235 -7.344513 -7.344513 -0.014337   \n",
            "3 2019-04-12 20:11:47.638500  0.249596 -2.194585 -2.194585 -0.014337   \n",
            "4 2019-04-12 20:11:47.661500 -2.628235 -7.344513 -7.344513 -0.014337   \n",
            "\n",
            "        g_y       g_z  activity  \n",
            "0  0.027778  0.027778         0  \n",
            "1  0.027778  0.027778         0  \n",
            "2  0.027778  0.027778         0  \n",
            "3  0.027778  0.027778         0  \n",
            "4  0.027778  0.027778         0  \n",
            "Index(['time', 'a_x', 'a_y', 'a_z', 'g_x', 'g_y', 'g_z', 'activity'], dtype='object')\n",
            "                        time       a_x       a_y       a_z       g_x  \\\n",
            "0 2019-04-02 01:38:39.996000 -1.615488 -1.402104 -1.402104  0.008056   \n",
            "1 2019-04-02 01:38:40.032000  0.340575  3.728670  3.728670  0.014428   \n",
            "2 2019-04-02 01:38:40.052500 -1.615488 -1.402104 -1.402104  0.008056   \n",
            "3 2019-04-02 01:38:40.078000  0.340575  3.728670  3.728670  0.014428   \n",
            "4 2019-04-02 01:38:40.093000 -1.615488 -1.402104 -1.402104  0.008056   \n",
            "\n",
            "        g_y       g_z  activity  \n",
            "0  0.008656  0.008656         0  \n",
            "1  0.010780  0.010780         0  \n",
            "2  0.008656  0.008656         0  \n",
            "3  0.010780  0.010780         0  \n",
            "4  0.008656  0.008656         0  \n"
          ],
          "name": "stdout"
        }
      ]
    },
    {
      "metadata": {
        "id": "Iri6A5ZroPZP",
        "colab_type": "code",
        "colab": {}
      },
      "cell_type": "code",
      "source": [
        "#concate writing and pause\n",
        "df = pd.concat([df_writing, df_pause],keys=['x','y'],ignore_index=True)\n"
      ],
      "execution_count": 0,
      "outputs": []
    },
    {
      "metadata": {
        "id": "2txA9i3eB8c2",
        "colab_type": "code",
        "colab": {}
      },
      "cell_type": "code",
      "source": [
        "df_test = pd.DataFrame()"
      ],
      "execution_count": 0,
      "outputs": []
    },
    {
      "metadata": {
        "id": "UBkWdByLB30R",
        "colab_type": "code",
        "outputId": "12a3660c-ac52-4195-e055-7525f101f9bf",
        "colab": {
          "base_uri": "https://localhost:8080/",
          "height": 265
        }
      },
      "cell_type": "code",
      "source": [
        "for dataset in testing_real_scenario:\n",
        "  data = pd.read_csv(base_src + 'Test/'+dataset, delimiter = ',')\n",
        "  df_test = pd.concat([df_test,preProcessData(data, 3)],keys=['x','y'],ignore_index=True)"
      ],
      "execution_count": 102,
      "outputs": [
        {
          "output_type": "stream",
          "text": [
            "Index(['time', 'a_x', 'a_y', 'a_z', 'g_x', 'g_y', 'g_z', 'activity'], dtype='object')\n",
            "                        time       a_x       a_y       a_z       g_x  \\\n",
            "0 2019-04-19 06:43:15.834500 -0.351349  1.542764  1.542764  0.197094   \n",
            "1 2019-04-19 06:43:15.841500 -0.712874 -0.430058 -0.430058 -0.100269   \n",
            "2 2019-04-19 06:43:15.861000 -0.351349  1.542764  1.542764  0.197094   \n",
            "3 2019-04-19 06:43:15.886000 -0.712874 -0.430058 -0.430058 -0.100269   \n",
            "4 2019-04-19 06:43:15.906500 -0.351349  1.542764  1.542764  0.197094   \n",
            "\n",
            "        g_y       g_z  activity  \n",
            "0 -0.130467 -0.130467         3  \n",
            "1  0.038393  0.038393         3  \n",
            "2 -0.130467 -0.130467         3  \n",
            "3  0.038393  0.038393         3  \n",
            "4 -0.130467 -0.130467         3  \n"
          ],
          "name": "stdout"
        }
      ]
    },
    {
      "metadata": {
        "id": "bExtSPnwEYao",
        "colab_type": "code",
        "colab": {}
      },
      "cell_type": "code",
      "source": [
        "if (EXPERIMENT_NUMBER == 2 or EXPERIMENT_NUMBER == 4):\n",
        "  df_test = pd.DataFrame()\n",
        "  for dataset in testing_data:\n",
        "    data = pd.read_csv(base_src + 'notebook/no_pause/'+dataset, delimiter = ',')\n",
        "    df_test = pd.concat([df_writing,preProcessData(data, activity_writing)],keys=['x','y'],ignore_index=True)"
      ],
      "execution_count": 0,
      "outputs": []
    },
    {
      "metadata": {
        "id": "-Mu3WMEiBOn9",
        "colab_type": "code",
        "colab": {}
      },
      "cell_type": "code",
      "source": [
        "#shuffle -- here we don't need shuffling\n",
        "#df = df.sample(frac=1).reset_index(drop=True)"
      ],
      "execution_count": 0,
      "outputs": []
    },
    {
      "metadata": {
        "id": "luKR7OhyL6GG",
        "colab_type": "text"
      },
      "cell_type": "markdown",
      "source": [
        "## **Analysing Data**"
      ]
    },
    {
      "metadata": {
        "id": "qzHAa-W5iTPZ",
        "colab_type": "code",
        "colab": {
          "base_uri": "https://localhost:8080/",
          "height": 197
        },
        "outputId": "13bd64e5-9e1a-4146-a57e-884b8489fe05"
      },
      "cell_type": "code",
      "source": [
        "df.head()"
      ],
      "execution_count": 104,
      "outputs": [
        {
          "output_type": "execute_result",
          "data": {
            "text/html": [
              "<div>\n",
              "<style scoped>\n",
              "    .dataframe tbody tr th:only-of-type {\n",
              "        vertical-align: middle;\n",
              "    }\n",
              "\n",
              "    .dataframe tbody tr th {\n",
              "        vertical-align: top;\n",
              "    }\n",
              "\n",
              "    .dataframe thead th {\n",
              "        text-align: right;\n",
              "    }\n",
              "</style>\n",
              "<table border=\"1\" class=\"dataframe\">\n",
              "  <thead>\n",
              "    <tr style=\"text-align: right;\">\n",
              "      <th></th>\n",
              "      <th>a_x</th>\n",
              "      <th>a_y</th>\n",
              "      <th>a_z</th>\n",
              "      <th>activity</th>\n",
              "      <th>g_x</th>\n",
              "      <th>g_y</th>\n",
              "      <th>g_z</th>\n",
              "      <th>time</th>\n",
              "    </tr>\n",
              "  </thead>\n",
              "  <tbody>\n",
              "    <tr>\n",
              "      <th>0</th>\n",
              "      <td>-0.040103</td>\n",
              "      <td>0.395941</td>\n",
              "      <td>0.395941</td>\n",
              "      <td>1.0</td>\n",
              "      <td>0.0</td>\n",
              "      <td>0.0</td>\n",
              "      <td>0.0</td>\n",
              "      <td>2019-04-15 11:28:31.247000</td>\n",
              "    </tr>\n",
              "    <tr>\n",
              "      <th>1</th>\n",
              "      <td>2.346916</td>\n",
              "      <td>3.802890</td>\n",
              "      <td>3.802890</td>\n",
              "      <td>1.0</td>\n",
              "      <td>0.0</td>\n",
              "      <td>0.0</td>\n",
              "      <td>0.0</td>\n",
              "      <td>2019-04-15 11:28:31.270500</td>\n",
              "    </tr>\n",
              "    <tr>\n",
              "      <th>2</th>\n",
              "      <td>-0.040103</td>\n",
              "      <td>0.395941</td>\n",
              "      <td>0.395941</td>\n",
              "      <td>1.0</td>\n",
              "      <td>0.0</td>\n",
              "      <td>0.0</td>\n",
              "      <td>0.0</td>\n",
              "      <td>2019-04-15 11:28:31.301000</td>\n",
              "    </tr>\n",
              "    <tr>\n",
              "      <th>3</th>\n",
              "      <td>2.346916</td>\n",
              "      <td>3.802890</td>\n",
              "      <td>3.802890</td>\n",
              "      <td>1.0</td>\n",
              "      <td>0.0</td>\n",
              "      <td>0.0</td>\n",
              "      <td>0.0</td>\n",
              "      <td>2019-04-15 11:28:31.310000</td>\n",
              "    </tr>\n",
              "    <tr>\n",
              "      <th>4</th>\n",
              "      <td>-0.040103</td>\n",
              "      <td>0.395941</td>\n",
              "      <td>0.395941</td>\n",
              "      <td>1.0</td>\n",
              "      <td>0.0</td>\n",
              "      <td>0.0</td>\n",
              "      <td>0.0</td>\n",
              "      <td>2019-04-15 11:28:31.327000</td>\n",
              "    </tr>\n",
              "  </tbody>\n",
              "</table>\n",
              "</div>"
            ],
            "text/plain": [
              "        a_x       a_y       a_z  activity  g_x  g_y  g_z  \\\n",
              "0 -0.040103  0.395941  0.395941       1.0  0.0  0.0  0.0   \n",
              "1  2.346916  3.802890  3.802890       1.0  0.0  0.0  0.0   \n",
              "2 -0.040103  0.395941  0.395941       1.0  0.0  0.0  0.0   \n",
              "3  2.346916  3.802890  3.802890       1.0  0.0  0.0  0.0   \n",
              "4 -0.040103  0.395941  0.395941       1.0  0.0  0.0  0.0   \n",
              "\n",
              "                        time  \n",
              "0 2019-04-15 11:28:31.247000  \n",
              "1 2019-04-15 11:28:31.270500  \n",
              "2 2019-04-15 11:28:31.301000  \n",
              "3 2019-04-15 11:28:31.310000  \n",
              "4 2019-04-15 11:28:31.327000  "
            ]
          },
          "metadata": {
            "tags": []
          },
          "execution_count": 104
        }
      ]
    },
    {
      "metadata": {
        "id": "k4EOAqJCiTPf",
        "colab_type": "code",
        "colab": {
          "base_uri": "https://localhost:8080/",
          "height": 287
        },
        "outputId": "f3d86416-3989-415e-c20b-256dffd83716"
      },
      "cell_type": "code",
      "source": [
        "df.describe()"
      ],
      "execution_count": 105,
      "outputs": [
        {
          "output_type": "execute_result",
          "data": {
            "text/html": [
              "<div>\n",
              "<style scoped>\n",
              "    .dataframe tbody tr th:only-of-type {\n",
              "        vertical-align: middle;\n",
              "    }\n",
              "\n",
              "    .dataframe tbody tr th {\n",
              "        vertical-align: top;\n",
              "    }\n",
              "\n",
              "    .dataframe thead th {\n",
              "        text-align: right;\n",
              "    }\n",
              "</style>\n",
              "<table border=\"1\" class=\"dataframe\">\n",
              "  <thead>\n",
              "    <tr style=\"text-align: right;\">\n",
              "      <th></th>\n",
              "      <th>a_x</th>\n",
              "      <th>a_y</th>\n",
              "      <th>a_z</th>\n",
              "      <th>activity</th>\n",
              "      <th>g_x</th>\n",
              "      <th>g_y</th>\n",
              "      <th>g_z</th>\n",
              "    </tr>\n",
              "  </thead>\n",
              "  <tbody>\n",
              "    <tr>\n",
              "      <th>count</th>\n",
              "      <td>20713.000000</td>\n",
              "      <td>20713.000000</td>\n",
              "      <td>20713.000000</td>\n",
              "      <td>20713.000000</td>\n",
              "      <td>20713.000000</td>\n",
              "      <td>20713.000000</td>\n",
              "      <td>20713.000000</td>\n",
              "    </tr>\n",
              "    <tr>\n",
              "      <th>mean</th>\n",
              "      <td>-1.682127</td>\n",
              "      <td>-3.639131</td>\n",
              "      <td>-3.639131</td>\n",
              "      <td>0.512094</td>\n",
              "      <td>-0.022763</td>\n",
              "      <td>0.002349</td>\n",
              "      <td>0.002349</td>\n",
              "    </tr>\n",
              "    <tr>\n",
              "      <th>std</th>\n",
              "      <td>2.450725</td>\n",
              "      <td>3.537344</td>\n",
              "      <td>3.537344</td>\n",
              "      <td>0.499866</td>\n",
              "      <td>0.585605</td>\n",
              "      <td>0.228548</td>\n",
              "      <td>0.228548</td>\n",
              "    </tr>\n",
              "    <tr>\n",
              "      <th>min</th>\n",
              "      <td>-11.316793</td>\n",
              "      <td>-22.303486</td>\n",
              "      <td>-22.303486</td>\n",
              "      <td>0.000000</td>\n",
              "      <td>-9.589344</td>\n",
              "      <td>-4.445744</td>\n",
              "      <td>-4.445744</td>\n",
              "    </tr>\n",
              "    <tr>\n",
              "      <th>25%</th>\n",
              "      <td>-1.933916</td>\n",
              "      <td>-6.154595</td>\n",
              "      <td>-6.154595</td>\n",
              "      <td>0.000000</td>\n",
              "      <td>-0.090711</td>\n",
              "      <td>-0.027452</td>\n",
              "      <td>-0.027452</td>\n",
              "    </tr>\n",
              "    <tr>\n",
              "      <th>50%</th>\n",
              "      <td>-0.708085</td>\n",
              "      <td>-4.734833</td>\n",
              "      <td>-4.734833</td>\n",
              "      <td>1.000000</td>\n",
              "      <td>-0.003626</td>\n",
              "      <td>-0.001095</td>\n",
              "      <td>-0.001095</td>\n",
              "    </tr>\n",
              "    <tr>\n",
              "      <th>75%</th>\n",
              "      <td>-0.217274</td>\n",
              "      <td>-1.665467</td>\n",
              "      <td>-1.665467</td>\n",
              "      <td>1.000000</td>\n",
              "      <td>0.084521</td>\n",
              "      <td>0.027778</td>\n",
              "      <td>0.027778</td>\n",
              "    </tr>\n",
              "    <tr>\n",
              "      <th>max</th>\n",
              "      <td>11.303625</td>\n",
              "      <td>11.715727</td>\n",
              "      <td>11.715727</td>\n",
              "      <td>1.000000</td>\n",
              "      <td>7.219116</td>\n",
              "      <td>5.117995</td>\n",
              "      <td>5.117995</td>\n",
              "    </tr>\n",
              "  </tbody>\n",
              "</table>\n",
              "</div>"
            ],
            "text/plain": [
              "                a_x           a_y           a_z      activity           g_x  \\\n",
              "count  20713.000000  20713.000000  20713.000000  20713.000000  20713.000000   \n",
              "mean      -1.682127     -3.639131     -3.639131      0.512094     -0.022763   \n",
              "std        2.450725      3.537344      3.537344      0.499866      0.585605   \n",
              "min      -11.316793    -22.303486    -22.303486      0.000000     -9.589344   \n",
              "25%       -1.933916     -6.154595     -6.154595      0.000000     -0.090711   \n",
              "50%       -0.708085     -4.734833     -4.734833      1.000000     -0.003626   \n",
              "75%       -0.217274     -1.665467     -1.665467      1.000000      0.084521   \n",
              "max       11.303625     11.715727     11.715727      1.000000      7.219116   \n",
              "\n",
              "                g_y           g_z  \n",
              "count  20713.000000  20713.000000  \n",
              "mean       0.002349      0.002349  \n",
              "std        0.228548      0.228548  \n",
              "min       -4.445744     -4.445744  \n",
              "25%       -0.027452     -0.027452  \n",
              "50%       -0.001095     -0.001095  \n",
              "75%        0.027778      0.027778  \n",
              "max        5.117995      5.117995  "
            ]
          },
          "metadata": {
            "tags": []
          },
          "execution_count": 105
        }
      ]
    },
    {
      "metadata": {
        "id": "nyd-NsA3LqA9",
        "colab_type": "code",
        "colab": {
          "base_uri": "https://localhost:8080/",
          "height": 34
        },
        "outputId": "46995db9-12a0-406f-e034-c54cdfb19c65"
      },
      "cell_type": "code",
      "source": [
        "df_writing.shape"
      ],
      "execution_count": 106,
      "outputs": [
        {
          "output_type": "execute_result",
          "data": {
            "text/plain": [
              "(10607, 8)"
            ]
          },
          "metadata": {
            "tags": []
          },
          "execution_count": 106
        }
      ]
    },
    {
      "metadata": {
        "id": "cBW6PlwSiTPk",
        "colab_type": "code",
        "outputId": "ff3c7305-e839-4102-fa8c-c30637f0097d",
        "colab": {
          "base_uri": "https://localhost:8080/",
          "height": 286
        }
      },
      "cell_type": "code",
      "source": [
        "corr = df_writing.corr()\n",
        "sns.heatmap(corr, \n",
        "            xticklabels=corr.columns.values,\n",
        "            yticklabels=corr.columns.values)"
      ],
      "execution_count": 107,
      "outputs": [
        {
          "output_type": "execute_result",
          "data": {
            "text/plain": [
              "<matplotlib.axes._subplots.AxesSubplot at 0x7fa39f7962e8>"
            ]
          },
          "metadata": {
            "tags": []
          },
          "execution_count": 107
        },
        {
          "output_type": "display_data",
          "data": {
            "image/png": "[encoded data removed]",
            "text/plain": [
              "<Figure size 432x288 with 2 Axes>"
            ]
          },
          "metadata": {
            "tags": []
          }
        }
      ]
    },
    {
      "metadata": {
        "id": "XK7eaYqLAMu4",
        "colab_type": "text"
      },
      "cell_type": "markdown",
      "source": [
        "**Calculating hertz**"
      ]
    },
    {
      "metadata": {
        "id": "qi2w1Jj_sM6e",
        "colab_type": "code",
        "colab": {
          "base_uri": "https://localhost:8080/",
          "height": 90
        },
        "outputId": "fc31b7d7-75f5-4a76-cac9-dee4dbb47eff"
      },
      "cell_type": "code",
      "source": [
        "start_time = df_writing.iloc[0].time\n",
        "samples=0\n",
        "frequency= []\n",
        "for data in df_writing['time']:\n",
        "  samples = samples + 1\n",
        "  if(pd.Timedelta(data - start_time).seconds >= 1):\n",
        "    frequency.append(samples)\n",
        "    samples = 0\n",
        "    start_time = data\n",
        "print(frequency)\n",
        "print('frequency is ', np.mean(frequency), ' hertz')\n",
        "from scipy import stats\n",
        "print('frequency is ', stats.mode(frequency, axis=None), ' hertz')\n",
        "  "
      ],
      "execution_count": 108,
      "outputs": [
        {
          "output_type": "stream",
          "text": [
            "[48, 50, 47, 27, 28, 26, 1, 26, 26, 1, 50, 50, 50, 50, 50, 27, 1, 51, 50, 25, 36, 26, 51, 49, 50, 50, 50, 50, 50, 50, 21, 12, 25, 1, 26, 1, 26, 26, 50, 50, 50, 25, 24, 16, 50, 50, 51, 21, 12, 2, 34, 43, 3, 50, 51, 48, 10, 1, 51, 2, 48, 51, 50, 50, 2, 11, 2, 49, 4, 1, 34, 17, 2, 24, 2, 42, 11, 25, 14, 15, 23, 1, 26, 26, 24, 16, 13, 1, 51, 51, 51, 50, 50, 50, 49, 1, 50, 50, 45, 24, 30, 2, 51, 51, 50, 35, 10, 3, 24, 3, 26, 25, 2, 50, 50, 37, 12, 3, 25, 24, 3, 24, 2, 23, 14, 51, 50, 28, 27, 3, 23, 4, 50, 50, 50, 24, 27, 27, 25, 21, 8, 8, 50, 50, 50, 10, 28, 6, 4, 50, 50, 50, 37, 12, 26, 3, 24, 3, 23, 4, 32, 20, 24, 3, 23, 3, 24, 23, 4, 2, 48, 5, 24, 3, 49, 50, 23, 4, 27, 23, 4, 27, 22, 4, 22, 4, 52, 25, 4, 4, 27, 23, 3, 24, 15, 50, 51, 51, 51, 50, 14, 13, 50, 50, 26, 10, 10, 50, 50, 50, 50, 14, 27, 5, 23, 2, 24, 15, 16, 51, 51, 39, 10, 2, 25, 2, 44, 6, 3, 24, 2, 51, 50, 42, 25, 28, 26, 40, 50, 48, 19, 10, 1, 52, 50, 51, 50, 32, 37, 2, 26, 51, 51, 51, 32, 11, 52, 51, 35, 1, 26, 1, 25, 19, 7, 1, 26, 21, 6, 26, 6, 22, 26, 1, 26, 25, 2, 25, 1, 25, 1, 26, 13, 14, 27, 26, 26, 7, 21, 38, 26, 8, 18, 2, 25, 1, 50, 50, 26, 26, 1, 26, 27, 26, 27, 25, 16, 33, 5, 24, 1, 27, 1, 39, 46, 34, 21, 2, 50, 50, 25, 2, 25, 2, 50, 50, 32, 11, 3, 23, 3, 28, 24, 2, 27, 28, 24, 24, 2, 28, 24, 3, 23, 2, 24, 9, 18, 2, 26, 24, 2, 24, 2, 25, 1, 25, 2, 24, 2, 24, 2, 27, 25, 1, 25, 1, 26, 10, 18, 1, 25, 1, 48, 21, 26, 1, 50, 11, 49, 47, 11, 2, 43, 17, 2, 51, 49, 28, 38, 12, 1, 31, 3, 24, 3, 25, 11, 17, 3, 25, 3, 25, 3, 25, 2, 25, 29, 1, 26, 16, 12, 27, 26, 3, 25, 33, 19, 1, 31, 1, 26, 1, 33, 19, 51, 34]\n",
            "frequency is  24.800469483568076  hertz\n",
            "frequency is  ModeResult(mode=array([50]), count=array([59]))  hertz\n"
          ],
          "name": "stdout"
        }
      ]
    },
    {
      "metadata": {
        "id": "Wp-5AQR3_Heq",
        "colab_type": "code",
        "colab": {
          "base_uri": "https://localhost:8080/",
          "height": 370
        },
        "outputId": "0aaadfb6-2ad4-4016-fce4-95c1322be2cf"
      },
      "cell_type": "code",
      "source": [
        "x = frequency\n",
        "plt.figure(figsize=(20,5))\n",
        "plt.plot(x) # plotting by columns\n",
        "\n",
        "# naming the x axis \n",
        "plt.xlabel('time instance') \n",
        "\n",
        "# naming the y axis \n",
        "plt.ylabel('frequncy')\n",
        "  \n",
        "# giving a title to my graph \n",
        "plt.title('frequency plot') \n",
        "  \n",
        "# function to show the plot \n",
        "plt.show()\n"
      ],
      "execution_count": 109,
      "outputs": [
        {
          "output_type": "display_data",
          "data": {
            "image/png": "[encoded data removed]",
            "text/plain": [
              "<Figure size 1440x360 with 1 Axes>"
            ]
          },
          "metadata": {
            "tags": []
          }
        }
      ]
    },
    {
      "metadata": {
        "id": "I_nOYTf4Fc3E",
        "colab_type": "code",
        "colab": {}
      },
      "cell_type": "code",
      "source": [
        "range(1, len(frequency))"
      ],
      "execution_count": 0,
      "outputs": []
    },
    {
      "metadata": {
        "id": "s4sD_ePnOf09",
        "colab_type": "text"
      },
      "cell_type": "markdown",
      "source": [
        "## Visualize data"
      ]
    },
    {
      "metadata": {
        "id": "7taOJ8lJOj4W",
        "colab_type": "code",
        "colab": {}
      },
      "cell_type": "code",
      "source": [
        "# def plot_activity(activity, data):\n",
        "\n",
        "#     fig, (ax0, ax1, ax2, ax3, ax4, ax5) = plt.subplots(nrows=6,\n",
        "#          figsize=(15, 10),\n",
        "#          sharex=True)\n",
        "#     plot_axis(ax0, data['time'], data['a_x'], 'Accelerometer X-Axis')\n",
        "#     plot_axis(ax1, data['time'], data['a_y'], 'Accelerometer Y-Axis')\n",
        "#     plot_axis(ax2, data['time'], data['a_z'], 'Accelerometer Z-Axis')\n",
        "#     plot_axis(ax3, data['time'], data['g_x'], 'Gyro X-Axis')\n",
        "#     plot_axis(ax4, data['time'], data['g_y'], 'Gyro Y-Axis')\n",
        "#     plot_axis(ax5, data['time'], data['g_z'], 'Gyro Z-Axis')\n",
        "#     plt.subplots_adjust(hspace=0.2)\n",
        "#     fig.suptitle(activity)\n",
        "#     plt.subplots_adjust(top=0.90)\n",
        "#     plt.show()\n",
        "\n",
        "# def plot_axis(ax, x, y, title):\n",
        "\n",
        "#     ax.plot(x, y, 'r')\n",
        "#     ax.set_title(title)\n",
        "#     ax.xaxis.set_visible(False)\n",
        "#     ax.set_ylim([min(y) - np.std(y), max(y) + np.std(y)])\n",
        "#     ax.set_xlim([min(x), max(x)])\n",
        "#     ax.grid(True)\n",
        "\n"
      ],
      "execution_count": 0,
      "outputs": []
    },
    {
      "metadata": {
        "id": "EGGVIYLTBUjL",
        "colab_type": "text"
      },
      "cell_type": "markdown",
      "source": [
        "## Training plot"
      ]
    },
    {
      "metadata": {
        "id": "S4VTRd2UOnIv",
        "colab_type": "code",
        "colab": {}
      },
      "cell_type": "code",
      "source": [
        "# for activity in np.unique(activity_writing):\n",
        "#     subset = df_writing[df_writing['activity'] == activity][:180]\n",
        "#     plot_activity(activity, subset)"
      ],
      "execution_count": 0,
      "outputs": []
    },
    {
      "metadata": {
        "id": "tZEHvZTnqwUI",
        "colab_type": "code",
        "colab": {}
      },
      "cell_type": "code",
      "source": [
        "# for activity in np.unique(activity_pause):\n",
        "#     subset = df_pause[df_pause['activity'] == activity][:180]\n",
        "#     plot_activity(activity, subset)"
      ],
      "execution_count": 0,
      "outputs": []
    },
    {
      "metadata": {
        "id": "WEO5NRk2Boh1",
        "colab_type": "text"
      },
      "cell_type": "markdown",
      "source": [
        "## Testing plot"
      ]
    },
    {
      "metadata": {
        "id": "rcK_GPOCBsmd",
        "colab_type": "code",
        "colab": {}
      },
      "cell_type": "code",
      "source": [
        "# for activity in np.unique(3):\n",
        "#     subset = df_test[df_test['activity'] == activity][:180]\n",
        "#     plot_activity(activity, subset)"
      ],
      "execution_count": 0,
      "outputs": []
    },
    {
      "metadata": {
        "id": "ynX6JFqJ5Xk4",
        "colab_type": "text"
      },
      "cell_type": "markdown",
      "source": [
        "## **Class distribution**"
      ]
    },
    {
      "metadata": {
        "id": "6Mln6s4_04qb",
        "colab_type": "code",
        "colab": {
          "base_uri": "https://localhost:8080/",
          "height": 294
        },
        "outputId": "76d4491b-b53b-46e5-af15-853bada8e299"
      },
      "cell_type": "code",
      "source": [
        "\n",
        "\n",
        "countPlot = sns.countplot(df['activity'],label=\"Sum\")\n",
        "plt.title('Distribution of Activities')\n",
        "plt.xlabel('Activities')\n",
        "plt.ylabel('count')\n",
        "\n",
        "countPlot.set_xticklabels(['Pause', 'Writing'], fontsize=10)\n",
        "\n",
        "plt.show()"
      ],
      "execution_count": 112,
      "outputs": [
        {
          "output_type": "display_data",
          "data": {
            "image/png": "[encoded data removed]",
            "text/plain": [
              "<Figure size 432x288 with 1 Axes>"
            ]
          },
          "metadata": {
            "tags": []
          }
        }
      ]
    },
    {
      "metadata": {
        "id": "WECI0ePO_6qq",
        "colab_type": "text"
      },
      "cell_type": "markdown",
      "source": [
        "## Extracting data for modelling"
      ]
    },
    {
      "metadata": {
        "id": "L-t5DPaSelHa",
        "colab_type": "code",
        "colab": {
          "base_uri": "https://localhost:8080/",
          "height": 197
        },
        "outputId": "6714dc7d-cdd0-4dbe-bac3-78f9c4224758"
      },
      "cell_type": "code",
      "source": [
        "df_test.head()"
      ],
      "execution_count": 113,
      "outputs": [
        {
          "output_type": "execute_result",
          "data": {
            "text/html": [
              "<div>\n",
              "<style scoped>\n",
              "    .dataframe tbody tr th:only-of-type {\n",
              "        vertical-align: middle;\n",
              "    }\n",
              "\n",
              "    .dataframe tbody tr th {\n",
              "        vertical-align: top;\n",
              "    }\n",
              "\n",
              "    .dataframe thead th {\n",
              "        text-align: right;\n",
              "    }\n",
              "</style>\n",
              "<table border=\"1\" class=\"dataframe\">\n",
              "  <thead>\n",
              "    <tr style=\"text-align: right;\">\n",
              "      <th></th>\n",
              "      <th>a_x</th>\n",
              "      <th>a_y</th>\n",
              "      <th>a_z</th>\n",
              "      <th>activity</th>\n",
              "      <th>g_x</th>\n",
              "      <th>g_y</th>\n",
              "      <th>g_z</th>\n",
              "      <th>time</th>\n",
              "    </tr>\n",
              "  </thead>\n",
              "  <tbody>\n",
              "    <tr>\n",
              "      <th>0</th>\n",
              "      <td>-0.351349</td>\n",
              "      <td>1.542764</td>\n",
              "      <td>1.542764</td>\n",
              "      <td>3.0</td>\n",
              "      <td>0.197094</td>\n",
              "      <td>-0.130467</td>\n",
              "      <td>-0.130467</td>\n",
              "      <td>2019-04-19 06:43:15.834500</td>\n",
              "    </tr>\n",
              "    <tr>\n",
              "      <th>1</th>\n",
              "      <td>-0.712874</td>\n",
              "      <td>-0.430058</td>\n",
              "      <td>-0.430058</td>\n",
              "      <td>3.0</td>\n",
              "      <td>-0.100269</td>\n",
              "      <td>0.038393</td>\n",
              "      <td>0.038393</td>\n",
              "      <td>2019-04-19 06:43:15.841500</td>\n",
              "    </tr>\n",
              "    <tr>\n",
              "      <th>2</th>\n",
              "      <td>-0.351349</td>\n",
              "      <td>1.542764</td>\n",
              "      <td>1.542764</td>\n",
              "      <td>3.0</td>\n",
              "      <td>0.197094</td>\n",
              "      <td>-0.130467</td>\n",
              "      <td>-0.130467</td>\n",
              "      <td>2019-04-19 06:43:15.861000</td>\n",
              "    </tr>\n",
              "    <tr>\n",
              "      <th>3</th>\n",
              "      <td>-0.712874</td>\n",
              "      <td>-0.430058</td>\n",
              "      <td>-0.430058</td>\n",
              "      <td>3.0</td>\n",
              "      <td>-0.100269</td>\n",
              "      <td>0.038393</td>\n",
              "      <td>0.038393</td>\n",
              "      <td>2019-04-19 06:43:15.886000</td>\n",
              "    </tr>\n",
              "    <tr>\n",
              "      <th>4</th>\n",
              "      <td>-0.351349</td>\n",
              "      <td>1.542764</td>\n",
              "      <td>1.542764</td>\n",
              "      <td>3.0</td>\n",
              "      <td>0.197094</td>\n",
              "      <td>-0.130467</td>\n",
              "      <td>-0.130467</td>\n",
              "      <td>2019-04-19 06:43:15.906500</td>\n",
              "    </tr>\n",
              "  </tbody>\n",
              "</table>\n",
              "</div>"
            ],
            "text/plain": [
              "        a_x       a_y       a_z  activity       g_x       g_y       g_z  \\\n",
              "0 -0.351349  1.542764  1.542764       3.0  0.197094 -0.130467 -0.130467   \n",
              "1 -0.712874 -0.430058 -0.430058       3.0 -0.100269  0.038393  0.038393   \n",
              "2 -0.351349  1.542764  1.542764       3.0  0.197094 -0.130467 -0.130467   \n",
              "3 -0.712874 -0.430058 -0.430058       3.0 -0.100269  0.038393  0.038393   \n",
              "4 -0.351349  1.542764  1.542764       3.0  0.197094 -0.130467 -0.130467   \n",
              "\n",
              "                        time  \n",
              "0 2019-04-19 06:43:15.834500  \n",
              "1 2019-04-19 06:43:15.841500  \n",
              "2 2019-04-19 06:43:15.861000  \n",
              "3 2019-04-19 06:43:15.886000  \n",
              "4 2019-04-19 06:43:15.906500  "
            ]
          },
          "metadata": {
            "tags": []
          },
          "execution_count": 113
        }
      ]
    },
    {
      "metadata": {
        "id": "_yzAjD4J_5C7",
        "colab_type": "code",
        "colab": {}
      },
      "cell_type": "code",
      "source": [
        "if (EXPERIMENT_NUMBER == 1 or EXPERIMENT_NUMBER == 3 or EXPERIMENT_NUMBER == 5):\n",
        "  X = df[['a_x','a_y','a_z','g_x','g_y','g_z']]\n",
        "  y = df['activity']\n",
        "  X_train, X_test, y_train, y_test = train_test_split(X,y,test_size=0.34)\n",
        "else:\n",
        "  X_train = df[['a_x','a_y','a_z','g_x','g_y','g_z']]\n",
        "  y_train = df[['activity']]\n",
        "  X_test = df_test[['a_x','a_y','a_z','g_x','g_y','g_z']]\n",
        "  y_test = df_test[['activity']]\n",
        "  print('test selected')"
      ],
      "execution_count": 0,
      "outputs": []
    },
    {
      "metadata": {
        "id": "3CYWFmv4-pHi",
        "colab_type": "text"
      },
      "cell_type": "markdown",
      "source": [
        "## **Classifiers**"
      ]
    },
    {
      "metadata": {
        "id": "skyjKq6Z76-b",
        "colab_type": "code",
        "colab": {}
      },
      "cell_type": "code",
      "source": [
        "#logistic regression\n",
        "LR = LogisticRegression()\n",
        "\n",
        "scoring = ['accuracy', 'precision_macro', 'recall_macro' , 'f1_weighted', 'roc_auc']\n",
        "scores = cross_validate(LR, X_train, y_train, scoring=scoring, cv=20)\n",
        "\n",
        "sorted(scores.keys())\n",
        "LR_fit_time = scores['fit_time'].mean()\n",
        "LR_score_time = scores['score_time'].mean()\n",
        "LR_accuracy = scores['test_accuracy'].mean()\n",
        "LR_precision = scores['test_precision_macro'].mean()\n",
        "LR_recall = scores['test_recall_macro'].mean()\n",
        "LR_f1 = scores['test_f1_weighted'].mean()\n",
        "LR_roc = scores['test_roc_auc'].mean()\n",
        "LR_model_size = math.ceil(sys.getsizeof(pickle.dumps(LR.fit(X_train, y_train))) / ONE_KB_IN_BYTES)\n",
        "\n",
        "#Decision tree\n",
        "decision_tree = DecisionTreeClassifier()\n",
        "\n",
        "scoring = ['accuracy', 'precision_macro', 'recall_macro' , 'f1_weighted', 'roc_auc']\n",
        "scores = cross_validate(decision_tree, X_train, y_train, scoring=scoring, cv=20)\n",
        "\n",
        "sorted(scores.keys())\n",
        "dtree_fit_time = scores['fit_time'].mean()\n",
        "dtree_score_time = scores['score_time'].mean()\n",
        "dtree_accuracy = scores['test_accuracy'].mean()\n",
        "dtree_precision = scores['test_precision_macro'].mean()\n",
        "dtree_recall = scores['test_recall_macro'].mean()\n",
        "dtree_f1 = scores['test_f1_weighted'].mean()\n",
        "dtree_roc = scores['test_roc_auc'].mean()\n",
        "dtree_model_size = math.ceil(sys.getsizeof(pickle.dumps(decision_tree.fit(X_train, y_train))) / ONE_KB_IN_BYTES)\n",
        "\n",
        "#SVM\n",
        "SVM = SVC(probability = True)\n",
        "\n",
        "scoring = ['accuracy','precision_macro', 'recall_macro' , 'f1_weighted', 'roc_auc']\n",
        "scores = cross_validate(SVM, X_train, y_train, scoring=scoring, cv=20)\n",
        "\n",
        "sorted(scores.keys())\n",
        "SVM_fit_time = scores['fit_time'].mean()\n",
        "SVM_score_time = scores['score_time'].mean()\n",
        "SVM_accuracy = scores['test_accuracy'].mean()\n",
        "SVM_precision = scores['test_precision_macro'].mean()\n",
        "SVM_recall = scores['test_recall_macro'].mean()\n",
        "SVM_f1 = scores['test_f1_weighted'].mean()\n",
        "SVM_roc = scores['test_roc_auc'].mean()\n",
        "SVM_model_size = math.ceil(sys.getsizeof(pickle.dumps(SVM.fit(X_train, y_train))) / ONE_KB_IN_BYTES)\n",
        "\n",
        "#Linear discriminant analysis\n",
        "LDA = LinearDiscriminantAnalysis()\n",
        "\n",
        "scoring = ['accuracy', 'precision_macro', 'recall_macro' , 'f1_weighted', 'roc_auc']\n",
        "scores = cross_validate(LDA, X_train, y_train, scoring=scoring, cv=20)\n",
        "\n",
        "sorted(scores.keys())\n",
        "LDA_fit_time = scores['fit_time'].mean()\n",
        "LDA_score_time = scores['score_time'].mean()\n",
        "LDA_accuracy = scores['test_accuracy'].mean()\n",
        "LDA_precision = scores['test_precision_macro'].mean()\n",
        "LDA_recall = scores['test_recall_macro'].mean()\n",
        "LDA_f1 = scores['test_f1_weighted'].mean()\n",
        "LDA_roc = scores['test_roc_auc'].mean()\n",
        "LDA_model_size = math.ceil(sys.getsizeof(pickle.dumps(LDA.fit(X_train, y_train))) / ONE_KB_IN_BYTES)\n",
        "\n",
        "#Quadratic Discriminant Analysis\n",
        "QDA = QuadraticDiscriminantAnalysis()\n",
        "\n",
        "scoring = ['accuracy', 'precision_macro', 'recall_macro' , 'f1_weighted', 'roc_auc']\n",
        "scores = cross_validate(QDA, X_train, y_train, scoring=scoring, cv=20)\n",
        "\n",
        "sorted(scores.keys())\n",
        "QDA_fit_time = scores['fit_time'].mean()\n",
        "QDA_score_time = scores['score_time'].mean()\n",
        "QDA_accuracy = scores['test_accuracy'].mean()\n",
        "QDA_precision = scores['test_precision_macro'].mean()\n",
        "QDA_recall = scores['test_recall_macro'].mean()\n",
        "QDA_f1 = scores['test_f1_weighted'].mean()\n",
        "QDA_roc = scores['test_roc_auc'].mean()\n",
        "QDA_model_size = math.ceil(sys.getsizeof(pickle.dumps(QDA.fit(X_train, y_train))) / ONE_KB_IN_BYTES)\n",
        "\n",
        "#Random Forest\n",
        "random_forest = RandomForestClassifier()\n",
        "\n",
        "scoring = ['accuracy', 'precision_macro', 'recall_macro' , 'f1_weighted', 'roc_auc']\n",
        "scores = cross_validate(random_forest, X_train, y_train, scoring=scoring, cv=20)\n",
        "\n",
        "sorted(scores.keys())\n",
        "forest_fit_time = scores['fit_time'].mean()\n",
        "forest_score_time = scores['score_time'].mean()\n",
        "forest_accuracy = scores['test_accuracy'].mean()\n",
        "forest_precision = scores['test_precision_macro'].mean()\n",
        "forest_recall = scores['test_recall_macro'].mean()\n",
        "forest_f1 = scores['test_f1_weighted'].mean()\n",
        "forest_roc = scores['test_roc_auc'].mean()\n",
        "forest_model_size = math.ceil(sys.getsizeof(pickle.dumps(random_forest.fit(X_train, y_train))) / ONE_KB_IN_BYTES)\n",
        "\n",
        "#KNN\n",
        "KNN = KNeighborsClassifier()\n",
        "\n",
        "scoring = ['accuracy', 'precision_macro', 'recall_macro' , 'f1_weighted', 'roc_auc']\n",
        "scores = cross_validate(KNN, X_train, y_train, scoring=scoring, cv=20)\n",
        "\n",
        "sorted(scores.keys())\n",
        "KNN_fit_time = scores['fit_time'].mean()\n",
        "KNN_score_time = scores['score_time'].mean()\n",
        "KNN_accuracy = scores['test_accuracy'].mean()\n",
        "KNN_precision = scores['test_precision_macro'].mean()\n",
        "KNN_recall = scores['test_recall_macro'].mean()\n",
        "KNN_f1 = scores['test_f1_weighted'].mean()\n",
        "KNN_roc = scores['test_roc_auc'].mean()\n",
        "KNN_model_size = math.ceil(sys.getsizeof(pickle.dumps(KNN.fit(X_train, y_train))) / ONE_KB_IN_BYTES)\n",
        "\n",
        "#Bayes\n",
        "bayes = GaussianNB()\n",
        "\n",
        "scoring = ['accuracy', 'precision_macro', 'recall_macro' , 'f1_weighted', 'roc_auc']\n",
        "scores = cross_validate(bayes, X_train, y_train, scoring=scoring, cv=20)\n",
        "\n",
        "sorted(scores.keys())\n",
        "bayes_fit_time = scores['fit_time'].mean()\n",
        "bayes_score_time = scores['score_time'].mean()\n",
        "bayes_accuracy = scores['test_accuracy'].mean()\n",
        "bayes_precision = scores['test_precision_macro'].mean()\n",
        "bayes_recall = scores['test_recall_macro'].mean()\n",
        "bayes_f1 = scores['test_f1_weighted'].mean()\n",
        "bayes_roc = scores['test_roc_auc'].mean()\n",
        "bayes_model_size = math.ceil(sys.getsizeof(pickle.dumps(bayes.fit(X_train, y_train))) / ONE_KB_IN_BYTES)\n"
      ],
      "execution_count": 0,
      "outputs": []
    },
    {
      "metadata": {
        "id": "vv0ZTzJN-tDx",
        "colab_type": "text"
      },
      "cell_type": "markdown",
      "source": [
        "## **Results**"
      ]
    },
    {
      "metadata": {
        "id": "0_Mrf7YF9IXv",
        "colab_type": "code",
        "colab": {
          "base_uri": "https://localhost:8080/",
          "height": 287
        },
        "outputId": "1a2be483-cbbc-4179-d52f-72e04bdfdf2f"
      },
      "cell_type": "code",
      "source": [
        "models_initial = pd.DataFrame({\n",
        "    'Model'       : ['Logistic Regression', 'Decision Tree', 'Support Vector Machine', 'Linear Discriminant Analysis', 'Quadratic Discriminant Analysis', 'Random Forest', 'K-Nearest Neighbors', 'Bayes'],\n",
        "    'Fitting time': [LR_fit_time, dtree_fit_time, SVM_fit_time, LDA_fit_time, QDA_fit_time, forest_fit_time, KNN_fit_time, bayes_fit_time],\n",
        "    'Scoring time': [LR_score_time, dtree_score_time, SVM_score_time, LDA_score_time, QDA_score_time, forest_score_time, KNN_score_time, bayes_score_time],\n",
        "    'Accuracy'    : [LR_accuracy, dtree_accuracy, SVM_accuracy, LDA_accuracy, QDA_accuracy, forest_accuracy, KNN_accuracy, bayes_accuracy],\n",
        "    'Precision'   : [LR_precision, dtree_precision, SVM_precision, LDA_precision, QDA_precision, forest_precision, KNN_precision, bayes_precision],\n",
        "    'Recall'      : [LR_recall, dtree_recall, SVM_recall, LDA_recall, QDA_recall, forest_recall, KNN_recall, bayes_recall],\n",
        "    'F1_score'    : [LR_f1, dtree_f1, SVM_f1, LDA_f1, QDA_f1, forest_f1, KNN_f1, bayes_f1],\n",
        "    'AUC_ROC'     : [LR_roc, dtree_roc, SVM_roc, LDA_roc, QDA_roc, forest_roc, KNN_roc, bayes_roc],\n",
        "    'Size (KB)': [LR_model_size, dtree_model_size, SVM_model_size, LDA_model_size, QDA_model_size, forest_model_size, KNN_model_size, bayes_model_size],\n",
        "    }, columns = ['Model', 'Fitting time', 'Scoring time', 'Accuracy', 'Precision', 'Recall', 'F1_score', 'AUC_ROC','Size (KB)'])\n",
        "\n",
        "models_initial.sort_values(by='Accuracy', ascending=False)"
      ],
      "execution_count": 116,
      "outputs": [
        {
          "output_type": "execute_result",
          "data": {
            "text/html": [
              "<div>\n",
              "<style scoped>\n",
              "    .dataframe tbody tr th:only-of-type {\n",
              "        vertical-align: middle;\n",
              "    }\n",
              "\n",
              "    .dataframe tbody tr th {\n",
              "        vertical-align: top;\n",
              "    }\n",
              "\n",
              "    .dataframe thead th {\n",
              "        text-align: right;\n",
              "    }\n",
              "</style>\n",
              "<table border=\"1\" class=\"dataframe\">\n",
              "  <thead>\n",
              "    <tr style=\"text-align: right;\">\n",
              "      <th></th>\n",
              "      <th>Model</th>\n",
              "      <th>Fitting time</th>\n",
              "      <th>Scoring time</th>\n",
              "      <th>Accuracy</th>\n",
              "      <th>Precision</th>\n",
              "      <th>Recall</th>\n",
              "      <th>F1_score</th>\n",
              "      <th>AUC_ROC</th>\n",
              "      <th>Size (KB)</th>\n",
              "    </tr>\n",
              "  </thead>\n",
              "  <tbody>\n",
              "    <tr>\n",
              "      <th>5</th>\n",
              "      <td>Random Forest</td>\n",
              "      <td>0.214952</td>\n",
              "      <td>0.019196</td>\n",
              "      <td>0.968763</td>\n",
              "      <td>0.968821</td>\n",
              "      <td>0.968742</td>\n",
              "      <td>0.968762</td>\n",
              "      <td>0.991772</td>\n",
              "      <td>648</td>\n",
              "    </tr>\n",
              "    <tr>\n",
              "      <th>6</th>\n",
              "      <td>K-Nearest Neighbors</td>\n",
              "      <td>0.010343</td>\n",
              "      <td>0.107178</td>\n",
              "      <td>0.968253</td>\n",
              "      <td>0.968331</td>\n",
              "      <td>0.968238</td>\n",
              "      <td>0.968252</td>\n",
              "      <td>0.986801</td>\n",
              "      <td>1561</td>\n",
              "    </tr>\n",
              "    <tr>\n",
              "      <th>1</th>\n",
              "      <td>Decision Tree</td>\n",
              "      <td>0.086053</td>\n",
              "      <td>0.009532</td>\n",
              "      <td>0.956472</td>\n",
              "      <td>0.956491</td>\n",
              "      <td>0.956495</td>\n",
              "      <td>0.956473</td>\n",
              "      <td>0.956495</td>\n",
              "      <td>74</td>\n",
              "    </tr>\n",
              "    <tr>\n",
              "      <th>2</th>\n",
              "      <td>Support Vector Machine</td>\n",
              "      <td>8.852910</td>\n",
              "      <td>0.211406</td>\n",
              "      <td>0.943965</td>\n",
              "      <td>0.944514</td>\n",
              "      <td>0.943637</td>\n",
              "      <td>0.943937</td>\n",
              "      <td>0.977423</td>\n",
              "      <td>134</td>\n",
              "    </tr>\n",
              "    <tr>\n",
              "      <th>0</th>\n",
              "      <td>Logistic Regression</td>\n",
              "      <td>0.035692</td>\n",
              "      <td>0.009744</td>\n",
              "      <td>0.935258</td>\n",
              "      <td>0.935509</td>\n",
              "      <td>0.935085</td>\n",
              "      <td>0.935242</td>\n",
              "      <td>0.943075</td>\n",
              "      <td>1</td>\n",
              "    </tr>\n",
              "    <tr>\n",
              "      <th>7</th>\n",
              "      <td>Bayes</td>\n",
              "      <td>0.006410</td>\n",
              "      <td>0.009887</td>\n",
              "      <td>0.912800</td>\n",
              "      <td>0.915123</td>\n",
              "      <td>0.911928</td>\n",
              "      <td>0.912625</td>\n",
              "      <td>0.936145</td>\n",
              "      <td>1</td>\n",
              "    </tr>\n",
              "    <tr>\n",
              "      <th>3</th>\n",
              "      <td>Linear Discriminant Analysis</td>\n",
              "      <td>0.024975</td>\n",
              "      <td>0.011325</td>\n",
              "      <td>0.886537</td>\n",
              "      <td>0.895584</td>\n",
              "      <td>0.884645</td>\n",
              "      <td>0.885723</td>\n",
              "      <td>0.939718</td>\n",
              "      <td>2</td>\n",
              "    </tr>\n",
              "    <tr>\n",
              "      <th>4</th>\n",
              "      <td>Quadratic Discriminant Analysis</td>\n",
              "      <td>0.008496</td>\n",
              "      <td>0.012424</td>\n",
              "      <td>0.809525</td>\n",
              "      <td>0.836334</td>\n",
              "      <td>0.809635</td>\n",
              "      <td>0.801649</td>\n",
              "      <td>0.874474</td>\n",
              "      <td>2</td>\n",
              "    </tr>\n",
              "  </tbody>\n",
              "</table>\n",
              "</div>"
            ],
            "text/plain": [
              "                             Model  Fitting time  Scoring time  Accuracy  \\\n",
              "5                    Random Forest      0.214952      0.019196  0.968763   \n",
              "6              K-Nearest Neighbors      0.010343      0.107178  0.968253   \n",
              "1                    Decision Tree      0.086053      0.009532  0.956472   \n",
              "2           Support Vector Machine      8.852910      0.211406  0.943965   \n",
              "0              Logistic Regression      0.035692      0.009744  0.935258   \n",
              "7                            Bayes      0.006410      0.009887  0.912800   \n",
              "3     Linear Discriminant Analysis      0.024975      0.011325  0.886537   \n",
              "4  Quadratic Discriminant Analysis      0.008496      0.012424  0.809525   \n",
              "\n",
              "   Precision    Recall  F1_score   AUC_ROC  Size (KB)  \n",
              "5   0.968821  0.968742  0.968762  0.991772        648  \n",
              "6   0.968331  0.968238  0.968252  0.986801       1561  \n",
              "1   0.956491  0.956495  0.956473  0.956495         74  \n",
              "2   0.944514  0.943637  0.943937  0.977423        134  \n",
              "0   0.935509  0.935085  0.935242  0.943075          1  \n",
              "7   0.915123  0.911928  0.912625  0.936145          1  \n",
              "3   0.895584  0.884645  0.885723  0.939718          2  \n",
              "4   0.836334  0.809635  0.801649  0.874474          2  "
            ]
          },
          "metadata": {
            "tags": []
          },
          "execution_count": 116
        }
      ]
    },
    {
      "metadata": {
        "id": "4UkdN9ZhCgVk",
        "colab_type": "text"
      },
      "cell_type": "markdown",
      "source": [
        "## Model Plots"
      ]
    },
    {
      "metadata": {
        "id": "jpbmdlEbGCRw",
        "colab_type": "code",
        "colab": {}
      },
      "cell_type": "code",
      "source": [
        "modelList = ('Logistic Regression', 'Decision Tree', 'Support Vector Machine', 'Linear Discriminant Analysis', 'Quadratic Discriminant Analysis', 'Random Forest', 'K-Nearest Neighbors', 'Bayes')\n"
      ],
      "execution_count": 0,
      "outputs": []
    },
    {
      "metadata": {
        "id": "vfIb9qii80P0",
        "colab_type": "code",
        "colab": {
          "base_uri": "https://localhost:8080/",
          "height": 2143
        },
        "outputId": "7365c25b-39ff-4031-a54c-c23cf52a5d36"
      },
      "cell_type": "code",
      "source": [
        "plt.xlabel('Fitting time')\n",
        "performance = models_initial['Fitting time']\n",
        "y_pos = np.arange(len(performance))\n",
        "plt.barh(y_pos, performance, 0.4, align='center', alpha=0.6)\n",
        "plt.yticks(y_pos, modelList)\n",
        "plt.show()\n",
        "\n",
        "plt.xlabel('Scoring time')\n",
        "performance = models_initial['Scoring time']\n",
        "y_pos = np.arange(len(performance))\n",
        "plt.barh(y_pos, performance, 0.4, align='center', alpha=0.6)\n",
        "plt.yticks(y_pos, modelList)\n",
        "plt.show()\n",
        "\n",
        "plt.xlabel('Accuracy')\n",
        "performance = models_initial['Accuracy']\n",
        "y_pos = np.arange(len(performance))\n",
        "plt.barh(y_pos, performance, 0.4, align='center', alpha=0.6)\n",
        "plt.yticks(y_pos, modelList)\n",
        "plt.show()\n",
        "\n",
        "plt.xlabel('Precision')\n",
        "performance = models_initial['Precision']\n",
        "y_pos = np.arange(len(performance))\n",
        "plt.barh(y_pos, performance, 0.4, align='center', alpha=0.6)\n",
        "plt.yticks(y_pos, modelList)\n",
        "plt.show()\n",
        "\n",
        "plt.xlabel('Recall')\n",
        "performance = models_initial['Recall']\n",
        "y_pos = np.arange(len(performance))\n",
        "plt.barh(y_pos, performance, 0.4, align='center', alpha=0.6)\n",
        "plt.yticks(y_pos, modelList)\n",
        "plt.show()\n",
        "\n",
        "plt.xlabel('F1_score')\n",
        "performance = models_initial['F1_score']\n",
        "y_pos = np.arange(len(performance))\n",
        "plt.barh(y_pos, performance, 0.4, align='center', alpha=0.6)\n",
        "plt.yticks(y_pos, modelList)\n",
        "plt.show()\n",
        "\n",
        "plt.xlabel('AUC_ROC')\n",
        "performance = models_initial['AUC_ROC']\n",
        "y_pos = np.arange(len(performance))\n",
        "plt.barh(y_pos, performance, 0.4, align='center', alpha=0.6)\n",
        "plt.yticks(y_pos, modelList)\n",
        "plt.show()\n",
        "\n",
        "plt.xlabel('Model Size (KB)')\n",
        "performance = models_initial['Size (KB)']\n",
        "y_pos = np.arange(len(performance))\n",
        "plt.barh(y_pos, performance, 0.4, align='center', alpha=0.6)\n",
        "plt.yticks(y_pos, modelList)\n",
        "plt.show()"
      ],
      "execution_count": 118,
      "outputs": [
        {
          "output_type": "display_data",
          "data": {
            "image/png": "[encoded data removed]",
            "text/plain": [
              "<Figure size 432x288 with 1 Axes>"
            ]
          },
          "metadata": {
            "tags": []
          }
        },
        {
          "output_type": "display_data",
          "data": {
            "image/png": "[encoded data removed]",
            "text/plain": [
              "<Figure size 432x288 with 1 Axes>"
            ]
          },
          "metadata": {
            "tags": []
          }
        },
        {
          "output_type": "display_data",
          "data": {
            "image/png": "[encoded data removed]",
            "text/plain": [
              "<Figure size 432x288 with 1 Axes>"
            ]
          },
          "metadata": {
            "tags": []
          }
        },
        {
          "output_type": "display_data",
          "data": {
            "image/png": "[encoded data removed]",
            "text/plain": [
              "<Figure size 432x288 with 1 Axes>"
            ]
          },
          "metadata": {
            "tags": []
          }
        },
        {
          "output_type": "display_data",
          "data": {
            "image/png": "[encoded data removed]",
            "text/plain": [
              "<Figure size 432x288 with 1 Axes>"
            ]
          },
          "metadata": {
            "tags": []
          }
        },
        {
          "output_type": "display_data",
          "data": {
            "image/png": "[encoded data removed]",
            "text/plain": [
              "<Figure size 432x288 with 1 Axes>"
            ]
          },
          "metadata": {
            "tags": []
          }
        },
        {
          "output_type": "display_data",
          "data": {
            "image/png": "[encoded data removed]",
            "text/plain": [
              "<Figure size 432x288 with 1 Axes>"
            ]
          },
          "metadata": {
            "tags": []
          }
        },
        {
          "output_type": "display_data",
          "data": {
            "image/png": "[encoded data removed]",
            "text/plain": [
              "<Figure size 432x288 with 1 Axes>"
            ]
          },
          "metadata": {
            "tags": []
          }
        }
      ]
    },
    {
      "metadata": {
        "id": "-c9iSA1xM8Fv",
        "colab_type": "code",
        "colab": {}
      },
      "cell_type": "code",
      "source": [
        "#Dummy to run till this point"
      ],
      "execution_count": 0,
      "outputs": []
    },
    {
      "metadata": {
        "id": "CINpjahurigH",
        "colab_type": "text"
      },
      "cell_type": "markdown",
      "source": [
        "## Saving model"
      ]
    },
    {
      "metadata": {
        "id": "_LMy_d5yroHQ",
        "colab_type": "code",
        "colab": {}
      },
      "cell_type": "code",
      "source": [
        "import pickle \n",
        "  \n",
        "random_forest.fit(X_train, y_train)\n",
        "# Save the trained model as a pickle string. \n",
        "random_forest_saved_model = pickle.dumps(random_forest)"
      ],
      "execution_count": 0,
      "outputs": []
    },
    {
      "metadata": {
        "id": "Si7M8U3Rr3QS",
        "colab_type": "text"
      },
      "cell_type": "markdown",
      "source": [
        "## Load saved model"
      ]
    },
    {
      "metadata": {
        "id": "lMixXl_xr6dx",
        "colab_type": "code",
        "colab": {}
      },
      "cell_type": "code",
      "source": [
        "# Load the pickled model \n",
        "random_forest_from_pickle = pickle.loads(random_forest_saved_model) \n",
        "  \n"
      ],
      "execution_count": 0,
      "outputs": []
    },
    {
      "metadata": {
        "id": "7VbPDrU7sERc",
        "colab_type": "text"
      },
      "cell_type": "markdown",
      "source": [
        "## Testing saved model"
      ]
    },
    {
      "metadata": {
        "id": "wsmIaKkPsJI4",
        "colab_type": "code",
        "colab": {}
      },
      "cell_type": "code",
      "source": [
        "X_test = df_test[['a_x','a_y','a_z','g_x','g_y','g_z']]"
      ],
      "execution_count": 0,
      "outputs": []
    },
    {
      "metadata": {
        "id": "6Xoh8kw6sGz0",
        "colab_type": "code",
        "colab": {}
      },
      "cell_type": "code",
      "source": [
        "# Use the loaded pickled model to make predictions \n",
        "predicted_class = random_forest_from_pickle.predict(X_test)"
      ],
      "execution_count": 0,
      "outputs": []
    },
    {
      "metadata": {
        "id": "bJzZk_Nkv9N_",
        "colab_type": "code",
        "outputId": "25f28643-ff97-4c9f-baae-ec4e098a9644",
        "colab": {
          "base_uri": "https://localhost:8080/",
          "height": 71
        }
      },
      "cell_type": "code",
      "source": [
        "print(len(X_test))\n",
        "print(len(predicted_class))"
      ],
      "execution_count": 0,
      "outputs": [
        {
          "output_type": "stream",
          "text": [
            "391\n",
            "391\n"
          ],
          "name": "stdout"
        }
      ]
    },
    {
      "metadata": {
        "id": "3TdKTyj0voKF",
        "colab_type": "code",
        "outputId": "6d15a7a5-1d41-4071-ed29-52e8097db945",
        "colab": {
          "base_uri": "https://localhost:8080/",
          "height": 289
        }
      },
      "cell_type": "code",
      "source": [
        "\n",
        "sns.countplot(predicted_class,label=\"Sum\")\n",
        "\n",
        "plt.show()"
      ],
      "execution_count": 0,
      "outputs": [
        {
          "output_type": "display_data",
          "data": {
            "image/png": "[encoded data removed]",
            "text/plain": [
              "<Figure size 432x288 with 1 Axes>"
            ]
          },
          "metadata": {
            "tags": []
          }
        }
      ]
    },
    {
      "metadata": {
        "id": "91VdVRtPIw17",
        "colab_type": "code",
        "outputId": "3a4b6857-cdaa-47fb-8c16-fc28cf8568a2",
        "colab": {
          "base_uri": "https://localhost:8080/",
          "height": 180
        }
      },
      "cell_type": "code",
      "source": [
        "# sns.distplot(predicted_class, kde=False, rug=True);\n",
        "\n",
        "sns.set_style(\"darkgrid\")\n",
        "plt.figure(figsize=(15,2))\n",
        "plt.plot(predicted_class)\n",
        "plt.show()"
      ],
      "execution_count": 0,
      "outputs": [
        {
          "output_type": "display_data",
          "data": {
            "image/png": "[encoded data removed]",
            "text/plain": [
              "<Figure size 1080x144 with 1 Axes>"
            ]
          },
          "metadata": {
            "tags": []
          }
        }
      ]
    },
    {
      "metadata": {
        "id": "qxEl0dkr-g75",
        "colab_type": "text"
      },
      "cell_type": "markdown",
      "source": [
        "## **Previous work**"
      ]
    },
    {
      "metadata": {
        "id": "TbLXxGGFiTPs",
        "colab_type": "code",
        "colab": {}
      },
      "cell_type": "code",
      "source": [
        "#Testing with 30-30 split and walking data"
      ],
      "execution_count": 0,
      "outputs": []
    },
    {
      "metadata": {
        "id": "iKYPMKEJiTPw",
        "colab_type": "code",
        "outputId": "205b06fd-d546-4c78-9cc7-53cb4a5fc638",
        "colab": {
          "base_uri": "https://localhost:8080/",
          "height": 462
        }
      },
      "cell_type": "code",
      "source": [
        "train = pd.read_csv('./dataset/notebook_day2.csv', delimiter = ',')\n",
        "test = pd.read_csv('./dataset/walking_day1_3.csv', delimiter = ',') #test_data\n",
        "# train = test = day2\n",
        "#normalize train\n",
        "# train = pd.DataFrame(preprocessing.normalize(train, norm='l2'))\n",
        "cols_to_norm = ['x','y','z']\n",
        "train[cols_to_norm] = train[cols_to_norm].apply(lambda x: (x - x.min()) / (x.max() - x.min()))\n",
        "test[cols_to_norm] = test[cols_to_norm].apply(lambda x: (x - x.min()) / (x.max() - x.min()))\n",
        "print(train)\n",
        "\n",
        "## split the dataset\n",
        "train = pd.DataFrame(np.random.randn(3188, 2))\n",
        "msk = np.random.rand(len(train)) < 0.8\n",
        "train = train[msk]\n",
        "test = train[~msk]\n",
        "\n",
        "# train = train.iloc[:, 0:len(train.columns) - 1]\n",
        "# X_train, X_test, Y_train, Y_test = train_test_split(train, range(3986), test_size=0.33, random_state=42)\n",
        "# train = pd.DataFrame(preprocessing.MinMaxScaler().fit_transform(train))\n",
        "\n",
        "# X_train, Y_train = train.iloc[:, 0:len(train.columns) - 1], train.iloc[:, -1]\n",
        "# X_test, Y_test = test.iloc[:, 0:len(test.columns) - 1], test.iloc[:, -1]"
      ],
      "execution_count": 0,
      "outputs": [
        {
          "output_type": "error",
          "ename": "FileNotFoundError",
          "evalue": "ignored",
          "traceback": [
            "\u001b[0;31m---------------------------------------------------------------------------\u001b[0m",
            "\u001b[0;31mFileNotFoundError\u001b[0m                         Traceback (most recent call last)",
            "\u001b[0;32m<ipython-input-88-f50b954e75e2>\u001b[0m in \u001b[0;36m<module>\u001b[0;34m()\u001b[0m\n\u001b[0;32m----> 1\u001b[0;31m \u001b[0mtrain\u001b[0m \u001b[0;34m=\u001b[0m \u001b[0mpd\u001b[0m\u001b[0;34m.\u001b[0m\u001b[0mread_csv\u001b[0m\u001b[0;34m(\u001b[0m\u001b[0;34m'./dataset/notebook_day2.csv'\u001b[0m\u001b[0;34m,\u001b[0m \u001b[0mdelimiter\u001b[0m \u001b[0;34m=\u001b[0m \u001b[0;34m','\u001b[0m\u001b[0;34m)\u001b[0m\u001b[0;34m\u001b[0m\u001b[0;34m\u001b[0m\u001b[0m\n\u001b[0m\u001b[1;32m      2\u001b[0m \u001b[0mtest\u001b[0m \u001b[0;34m=\u001b[0m \u001b[0mpd\u001b[0m\u001b[0;34m.\u001b[0m\u001b[0mread_csv\u001b[0m\u001b[0;34m(\u001b[0m\u001b[0;34m'./dataset/walking_day1_3.csv'\u001b[0m\u001b[0;34m,\u001b[0m \u001b[0mdelimiter\u001b[0m \u001b[0;34m=\u001b[0m \u001b[0;34m','\u001b[0m\u001b[0;34m)\u001b[0m \u001b[0;31m#test_data\u001b[0m\u001b[0;34m\u001b[0m\u001b[0;34m\u001b[0m\u001b[0m\n\u001b[1;32m      3\u001b[0m \u001b[0;31m# train = test = day2\u001b[0m\u001b[0;34m\u001b[0m\u001b[0;34m\u001b[0m\u001b[0;34m\u001b[0m\u001b[0m\n\u001b[1;32m      4\u001b[0m \u001b[0;31m#normalize train\u001b[0m\u001b[0;34m\u001b[0m\u001b[0;34m\u001b[0m\u001b[0;34m\u001b[0m\u001b[0m\n\u001b[1;32m      5\u001b[0m \u001b[0;31m# train = pd.DataFrame(preprocessing.normalize(train, norm='l2'))\u001b[0m\u001b[0;34m\u001b[0m\u001b[0;34m\u001b[0m\u001b[0;34m\u001b[0m\u001b[0m\n",
            "\u001b[0;32m/usr/local/lib/python3.6/dist-packages/pandas/io/parsers.py\u001b[0m in \u001b[0;36mparser_f\u001b[0;34m(filepath_or_buffer, sep, delimiter, header, names, index_col, usecols, squeeze, prefix, mangle_dupe_cols, dtype, engine, converters, true_values, false_values, skipinitialspace, skiprows, skipfooter, nrows, na_values, keep_default_na, na_filter, verbose, skip_blank_lines, parse_dates, infer_datetime_format, keep_date_col, date_parser, dayfirst, iterator, chunksize, compression, thousands, decimal, lineterminator, quotechar, quoting, doublequote, escapechar, comment, encoding, dialect, tupleize_cols, error_bad_lines, warn_bad_lines, delim_whitespace, low_memory, memory_map, float_precision)\u001b[0m\n\u001b[1;32m    700\u001b[0m                     skip_blank_lines=skip_blank_lines)\n\u001b[1;32m    701\u001b[0m \u001b[0;34m\u001b[0m\u001b[0m\n\u001b[0;32m--> 702\u001b[0;31m         \u001b[0;32mreturn\u001b[0m \u001b[0m_read\u001b[0m\u001b[0;34m(\u001b[0m\u001b[0mfilepath_or_buffer\u001b[0m\u001b[0;34m,\u001b[0m \u001b[0mkwds\u001b[0m\u001b[0;34m)\u001b[0m\u001b[0;34m\u001b[0m\u001b[0;34m\u001b[0m\u001b[0m\n\u001b[0m\u001b[1;32m    703\u001b[0m \u001b[0;34m\u001b[0m\u001b[0m\n\u001b[1;32m    704\u001b[0m     \u001b[0mparser_f\u001b[0m\u001b[0;34m.\u001b[0m\u001b[0m__name__\u001b[0m \u001b[0;34m=\u001b[0m \u001b[0mname\u001b[0m\u001b[0;34m\u001b[0m\u001b[0;34m\u001b[0m\u001b[0m\n",
            "\u001b[0;32m/usr/local/lib/python3.6/dist-packages/pandas/io/parsers.py\u001b[0m in \u001b[0;36m_read\u001b[0;34m(filepath_or_buffer, kwds)\u001b[0m\n\u001b[1;32m    427\u001b[0m \u001b[0;34m\u001b[0m\u001b[0m\n\u001b[1;32m    428\u001b[0m     \u001b[0;31m# Create the parser.\u001b[0m\u001b[0;34m\u001b[0m\u001b[0;34m\u001b[0m\u001b[0;34m\u001b[0m\u001b[0m\n\u001b[0;32m--> 429\u001b[0;31m     \u001b[0mparser\u001b[0m \u001b[0;34m=\u001b[0m \u001b[0mTextFileReader\u001b[0m\u001b[0;34m(\u001b[0m\u001b[0mfilepath_or_buffer\u001b[0m\u001b[0;34m,\u001b[0m \u001b[0;34m**\u001b[0m\u001b[0mkwds\u001b[0m\u001b[0;34m)\u001b[0m\u001b[0;34m\u001b[0m\u001b[0;34m\u001b[0m\u001b[0m\n\u001b[0m\u001b[1;32m    430\u001b[0m \u001b[0;34m\u001b[0m\u001b[0m\n\u001b[1;32m    431\u001b[0m     \u001b[0;32mif\u001b[0m \u001b[0mchunksize\u001b[0m \u001b[0;32mor\u001b[0m \u001b[0miterator\u001b[0m\u001b[0;34m:\u001b[0m\u001b[0;34m\u001b[0m\u001b[0;34m\u001b[0m\u001b[0m\n",
            "\u001b[0;32m/usr/local/lib/python3.6/dist-packages/pandas/io/parsers.py\u001b[0m in \u001b[0;36m__init__\u001b[0;34m(self, f, engine, **kwds)\u001b[0m\n\u001b[1;32m    893\u001b[0m             \u001b[0mself\u001b[0m\u001b[0;34m.\u001b[0m\u001b[0moptions\u001b[0m\u001b[0;34m[\u001b[0m\u001b[0;34m'has_index_names'\u001b[0m\u001b[0;34m]\u001b[0m \u001b[0;34m=\u001b[0m \u001b[0mkwds\u001b[0m\u001b[0;34m[\u001b[0m\u001b[0;34m'has_index_names'\u001b[0m\u001b[0;34m]\u001b[0m\u001b[0;34m\u001b[0m\u001b[0;34m\u001b[0m\u001b[0m\n\u001b[1;32m    894\u001b[0m \u001b[0;34m\u001b[0m\u001b[0m\n\u001b[0;32m--> 895\u001b[0;31m         \u001b[0mself\u001b[0m\u001b[0;34m.\u001b[0m\u001b[0m_make_engine\u001b[0m\u001b[0;34m(\u001b[0m\u001b[0mself\u001b[0m\u001b[0;34m.\u001b[0m\u001b[0mengine\u001b[0m\u001b[0;34m)\u001b[0m\u001b[0;34m\u001b[0m\u001b[0;34m\u001b[0m\u001b[0m\n\u001b[0m\u001b[1;32m    896\u001b[0m \u001b[0;34m\u001b[0m\u001b[0m\n\u001b[1;32m    897\u001b[0m     \u001b[0;32mdef\u001b[0m \u001b[0mclose\u001b[0m\u001b[0;34m(\u001b[0m\u001b[0mself\u001b[0m\u001b[0;34m)\u001b[0m\u001b[0;34m:\u001b[0m\u001b[0;34m\u001b[0m\u001b[0;34m\u001b[0m\u001b[0m\n",
            "\u001b[0;32m/usr/local/lib/python3.6/dist-packages/pandas/io/parsers.py\u001b[0m in \u001b[0;36m_make_engine\u001b[0;34m(self, engine)\u001b[0m\n\u001b[1;32m   1120\u001b[0m     \u001b[0;32mdef\u001b[0m \u001b[0m_make_engine\u001b[0m\u001b[0;34m(\u001b[0m\u001b[0mself\u001b[0m\u001b[0;34m,\u001b[0m \u001b[0mengine\u001b[0m\u001b[0;34m=\u001b[0m\u001b[0;34m'c'\u001b[0m\u001b[0;34m)\u001b[0m\u001b[0;34m:\u001b[0m\u001b[0;34m\u001b[0m\u001b[0;34m\u001b[0m\u001b[0m\n\u001b[1;32m   1121\u001b[0m         \u001b[0;32mif\u001b[0m \u001b[0mengine\u001b[0m \u001b[0;34m==\u001b[0m \u001b[0;34m'c'\u001b[0m\u001b[0;34m:\u001b[0m\u001b[0;34m\u001b[0m\u001b[0;34m\u001b[0m\u001b[0m\n\u001b[0;32m-> 1122\u001b[0;31m             \u001b[0mself\u001b[0m\u001b[0;34m.\u001b[0m\u001b[0m_engine\u001b[0m \u001b[0;34m=\u001b[0m \u001b[0mCParserWrapper\u001b[0m\u001b[0;34m(\u001b[0m\u001b[0mself\u001b[0m\u001b[0;34m.\u001b[0m\u001b[0mf\u001b[0m\u001b[0;34m,\u001b[0m \u001b[0;34m**\u001b[0m\u001b[0mself\u001b[0m\u001b[0;34m.\u001b[0m\u001b[0moptions\u001b[0m\u001b[0;34m)\u001b[0m\u001b[0;34m\u001b[0m\u001b[0;34m\u001b[0m\u001b[0m\n\u001b[0m\u001b[1;32m   1123\u001b[0m         \u001b[0;32melse\u001b[0m\u001b[0;34m:\u001b[0m\u001b[0;34m\u001b[0m\u001b[0;34m\u001b[0m\u001b[0m\n\u001b[1;32m   1124\u001b[0m             \u001b[0;32mif\u001b[0m \u001b[0mengine\u001b[0m \u001b[0;34m==\u001b[0m \u001b[0;34m'python'\u001b[0m\u001b[0;34m:\u001b[0m\u001b[0;34m\u001b[0m\u001b[0;34m\u001b[0m\u001b[0m\n",
            "\u001b[0;32m/usr/local/lib/python3.6/dist-packages/pandas/io/parsers.py\u001b[0m in \u001b[0;36m__init__\u001b[0;34m(self, src, **kwds)\u001b[0m\n\u001b[1;32m   1851\u001b[0m         \u001b[0mkwds\u001b[0m\u001b[0;34m[\u001b[0m\u001b[0;34m'usecols'\u001b[0m\u001b[0;34m]\u001b[0m \u001b[0;34m=\u001b[0m \u001b[0mself\u001b[0m\u001b[0;34m.\u001b[0m\u001b[0musecols\u001b[0m\u001b[0;34m\u001b[0m\u001b[0;34m\u001b[0m\u001b[0m\n\u001b[1;32m   1852\u001b[0m \u001b[0;34m\u001b[0m\u001b[0m\n\u001b[0;32m-> 1853\u001b[0;31m         \u001b[0mself\u001b[0m\u001b[0;34m.\u001b[0m\u001b[0m_reader\u001b[0m \u001b[0;34m=\u001b[0m \u001b[0mparsers\u001b[0m\u001b[0;34m.\u001b[0m\u001b[0mTextReader\u001b[0m\u001b[0;34m(\u001b[0m\u001b[0msrc\u001b[0m\u001b[0;34m,\u001b[0m \u001b[0;34m**\u001b[0m\u001b[0mkwds\u001b[0m\u001b[0;34m)\u001b[0m\u001b[0;34m\u001b[0m\u001b[0;34m\u001b[0m\u001b[0m\n\u001b[0m\u001b[1;32m   1854\u001b[0m         \u001b[0mself\u001b[0m\u001b[0;34m.\u001b[0m\u001b[0munnamed_cols\u001b[0m \u001b[0;34m=\u001b[0m \u001b[0mself\u001b[0m\u001b[0;34m.\u001b[0m\u001b[0m_reader\u001b[0m\u001b[0;34m.\u001b[0m\u001b[0munnamed_cols\u001b[0m\u001b[0;34m\u001b[0m\u001b[0;34m\u001b[0m\u001b[0m\n\u001b[1;32m   1855\u001b[0m \u001b[0;34m\u001b[0m\u001b[0m\n",
            "\u001b[0;32mpandas/_libs/parsers.pyx\u001b[0m in \u001b[0;36mpandas._libs.parsers.TextReader.__cinit__\u001b[0;34m()\u001b[0m\n",
            "\u001b[0;32mpandas/_libs/parsers.pyx\u001b[0m in \u001b[0;36mpandas._libs.parsers.TextReader._setup_parser_source\u001b[0;34m()\u001b[0m\n",
            "\u001b[0;31mFileNotFoundError\u001b[0m: [Errno 2] File b'./dataset/notebook_day2.csv' does not exist: b'./dataset/notebook_day2.csv'"
          ]
        }
      ]
    },
    {
      "metadata": {
        "id": "08k9fvp0iTP2",
        "colab_type": "code",
        "colab": {}
      },
      "cell_type": "code",
      "source": [
        "from sklearn.tree import DecisionTreeClassifier\n",
        "from sklearn.neighbors import KNeighborsClassifier\n",
        "from sklearn.svm import SVC\n",
        "from sklearn.naive_bayes import GaussianNB\n",
        "from sklearn.discriminant_analysis import QuadraticDiscriminantAnalysis\n",
        "\n",
        "from sklearn.metrics import accuracy_score # for evaluation\n",
        "\n",
        "classifiers = [\n",
        "    DecisionTreeClassifier(),\n",
        "    #KNeighborsClassifier(7),\n",
        "    SVC(),\n",
        "    GaussianNB(),\n",
        "    QuadraticDiscriminantAnalysis()\n",
        "]\n",
        "\n",
        "names = []\n",
        "scores = []\n",
        "\n",
        "for clf in classifiers:\n",
        "    clf = clf.fit(X_train, Y_train)\n",
        "    Y_pred = clf.predict(X_test)\n",
        "    \n",
        "    names.append(clf.__class__.__name__)\n",
        "    scores.append(accuracy_score(Y_pred, Y_test))\n",
        "\n",
        "score_df = pd.DataFrame({'Model': names, 'Score': scores}).set_index('Model')\n",
        "score_df"
      ],
      "execution_count": 0,
      "outputs": []
    },
    {
      "metadata": {
        "id": "wPb8oJDZiTP6",
        "colab_type": "code",
        "colab": {}
      },
      "cell_type": "code",
      "source": [
        "#Testing with no pause split and walking data"
      ],
      "execution_count": 0,
      "outputs": []
    },
    {
      "metadata": {
        "id": "k_o_Tga_iTP9",
        "colab_type": "code",
        "colab": {}
      },
      "cell_type": "code",
      "source": [
        "train = pd.read_csv('./dataset/notebook_day4_nopause.csv', delimiter = ',')\n",
        "test = pd.read_csv('./dataset/walking_day1_3.csv', delimiter = ',') #test_data\n",
        "X_train, Y_train = train.iloc[:, 0:len(train.columns) - 1], train.iloc[:, -1]\n",
        "X_test, Y_test = test.iloc[:, 0:len(test.columns) - 1], test.iloc[:, -1]"
      ],
      "execution_count": 0,
      "outputs": []
    },
    {
      "metadata": {
        "id": "i2JRWlrAiTQA",
        "colab_type": "code",
        "colab": {}
      },
      "cell_type": "code",
      "source": [
        "classifiers = [\n",
        "    DecisionTreeClassifier(),\n",
        "    #KNeighborsClassifier(7),\n",
        "    SVC(),\n",
        "    GaussianNB(),\n",
        "    QuadraticDiscriminantAnalysis()\n",
        "]\n",
        "\n",
        "names = []\n",
        "scores = []\n",
        "\n",
        "for clf in classifiers:\n",
        "    clf = clf.fit(X_train, Y_train)\n",
        "    Y_pred = clf.predict(X_test)\n",
        "    \n",
        "    names.append(clf.__class__.__name__)\n",
        "    scores.append(accuracy_score(Y_pred, Y_test))\n",
        "\n",
        "score_df = pd.DataFrame({'Model': names, 'Score': scores}).set_index('Model')\n",
        "score_df"
      ],
      "execution_count": 0,
      "outputs": []
    },
    {
      "metadata": {
        "id": "wwQH3YUpiTQE",
        "colab_type": "code",
        "colab": {}
      },
      "cell_type": "code",
      "source": [
        "#Testing with 30-30 split and eating data"
      ],
      "execution_count": 0,
      "outputs": []
    },
    {
      "metadata": {
        "id": "_xuepK-FiTQJ",
        "colab_type": "code",
        "colab": {}
      },
      "cell_type": "code",
      "source": [
        "train = pd.read_csv('./dataset/notebook_day2.csv', delimiter = ',')\n",
        "test = pd.read_csv('./dataset/eating_day1.csv', delimiter = ',') #test_data\n",
        "X_train, Y_train = train.iloc[:, 0:len(train.columns) - 1], train.iloc[:, -1]\n",
        "X_test, Y_test = test.iloc[:, 0:len(test.columns) - 1], test.iloc[:, -1]"
      ],
      "execution_count": 0,
      "outputs": []
    },
    {
      "metadata": {
        "id": "erGy3HliiTQP",
        "colab_type": "code",
        "colab": {}
      },
      "cell_type": "code",
      "source": [
        "classifiers = [\n",
        "    DecisionTreeClassifier(),\n",
        "    #KNeighborsClassifier(7),\n",
        "    SVC(),\n",
        "    GaussianNB(),\n",
        "    QuadraticDiscriminantAnalysis()\n",
        "]\n",
        "\n",
        "names = []\n",
        "scores = []\n",
        "\n",
        "for clf in classifiers:\n",
        "    clf = clf.fit(X_train, Y_train)\n",
        "    Y_pred = clf.predict(X_test)\n",
        "    \n",
        "    names.append(clf.__class__.__name__)\n",
        "    scores.append(accuracy_score(Y_pred, Y_test))\n",
        "\n",
        "score_df = pd.DataFrame({'Model': names, 'Score': scores}).set_index('Model')\n",
        "score_df"
      ],
      "execution_count": 0,
      "outputs": []
    },
    {
      "metadata": {
        "id": "9VWbQU_7iTQX",
        "colab_type": "code",
        "colab": {}
      },
      "cell_type": "code",
      "source": [
        "#Testing with no pause split and walking data"
      ],
      "execution_count": 0,
      "outputs": []
    },
    {
      "metadata": {
        "id": "gUcmhW8YiTQa",
        "colab_type": "code",
        "colab": {}
      },
      "cell_type": "code",
      "source": [
        "train = pd.read_csv('./dataset/notebook_day4_nopause.csv', delimiter = ',')\n",
        "test = pd.read_csv('./dataset/eating_day1.csv', delimiter = ',') #test_data\n",
        "X_train, Y_train = train.iloc[:, 0:len(train.columns) - 1], train.iloc[:, -1]\n",
        "X_test, Y_test = test.iloc[:, 0:len(test.columns) - 1], test.iloc[:, -1]"
      ],
      "execution_count": 0,
      "outputs": []
    },
    {
      "metadata": {
        "id": "Jy9KFpkViTQe",
        "colab_type": "code",
        "colab": {}
      },
      "cell_type": "code",
      "source": [
        "classifiers = [\n",
        "    DecisionTreeClassifier(),\n",
        "    #KNeighborsClassifier(7),\n",
        "    SVC(),\n",
        "    GaussianNB(),\n",
        "    QuadraticDiscriminantAnalysis()\n",
        "]\n",
        "\n",
        "names = []\n",
        "scores = []\n",
        "\n",
        "for clf in classifiers:\n",
        "    clf = clf.fit(X_train, Y_train)\n",
        "    Y_pred = clf.predict(X_test)\n",
        "    \n",
        "    names.append(clf.__class__.__name__)\n",
        "    scores.append(accuracy_score(Y_pred, Y_test))\n",
        "\n",
        "score_df = pd.DataFrame({'Model': names, 'Score': scores}).set_index('Model')\n",
        "score_df"
      ],
      "execution_count": 0,
      "outputs": []
    },
    {
      "metadata": {
        "id": "rEtnK9iEiTQk",
        "colab_type": "code",
        "colab": {}
      },
      "cell_type": "code",
      "source": [
        "#Testing with 30-30 split and writing data\n",
        "train = pd.read_csv('./dataset/notebook_day2.csv', delimiter = ',')\n",
        "test = pd.read_csv('./dataset/notebook_day3.csv', delimiter = ',') #test_data\n",
        "X_train, Y_train = train.iloc[:, 0:len(train.columns) - 1], train.iloc[:, -1]\n",
        "X_test, Y_test = test.iloc[:, 0:len(test.columns) - 1], test.iloc[:, -1]\n",
        "\n",
        "classifiers = [\n",
        "    DecisionTreeClassifier(),\n",
        "    #KNeighborsClassifier(7),\n",
        "    SVC(),\n",
        "    GaussianNB(),\n",
        "    QuadraticDiscriminantAnalysis()\n",
        "]\n",
        "\n",
        "names = []\n",
        "scores = []\n",
        "\n",
        "for clf in classifiers:\n",
        "    clf = clf.fit(X_train, Y_train)\n",
        "    Y_pred = clf.predict(X_test)\n",
        "    \n",
        "    names.append(clf.__class__.__name__)\n",
        "    scores.append(accuracy_score(Y_pred, Y_test))\n",
        "\n",
        "score_df = pd.DataFrame({'Model': names, 'Score': scores}).set_index('Model')\n",
        "score_df"
      ],
      "execution_count": 0,
      "outputs": []
    },
    {
      "metadata": {
        "id": "EB0IUndViTQq",
        "colab_type": "code",
        "colab": {}
      },
      "cell_type": "code",
      "source": [
        "#Testing with no pause and writing data\n",
        "train = pd.read_csv('./dataset/notebook_day4_nopause.csv', delimiter = ',')\n",
        "test = pd.read_csv('./dataset/notebook_day3.csv', delimiter = ',') #test_data\n",
        "X_train, Y_train = train.iloc[:, 0:len(train.columns) - 1], train.iloc[:, -1]\n",
        "X_test, Y_test = test.iloc[:, 0:len(test.columns) - 1], test.iloc[:, -1]\n",
        "\n",
        "classifiers = [\n",
        "    DecisionTreeClassifier(),\n",
        "    #KNeighborsClassifier(7),\n",
        "    SVC(),\n",
        "    GaussianNB(),\n",
        "    QuadraticDiscriminantAnalysis()\n",
        "]\n",
        "\n",
        "names = []\n",
        "scores = []\n",
        "\n",
        "for clf in classifiers:\n",
        "    clf = clf.fit(X_train, Y_train)\n",
        "    Y_pred = clf.predict(X_test)\n",
        "    \n",
        "    names.append(clf.__class__.__name__)\n",
        "    scores.append(accuracy_score(Y_pred, Y_test))\n",
        "\n",
        "score_df = pd.DataFrame({'Model': names, 'Score': scores}).set_index('Model')\n",
        "score_df"
      ],
      "execution_count": 0,
      "outputs": []
    },
    {
      "metadata": {
        "id": "EjtG1T2SiTQv",
        "colab_type": "code",
        "colab": {}
      },
      "cell_type": "code",
      "source": [
        ""
      ],
      "execution_count": 0,
      "outputs": []
    },
    {
      "metadata": {
        "id": "-CUGH7EvbO-M",
        "colab_type": "text"
      },
      "cell_type": "markdown",
      "source": [
        "## Idea Pad"
      ]
    },
    {
      "metadata": {
        "id": "U76i6AQkbWAS",
        "colab_type": "code",
        "colab": {}
      },
      "cell_type": "code",
      "source": [
        "from pandas import Grouper\n",
        "df_writing = pd.DataFrame()\n",
        "data = pd.DataFrame()\n",
        "for dataset in training_dataset_writing:\n",
        "  data = pd.read_csv(base_src + 'notebook/no_pause/'+dataset, delimiter = ',')\n",
        "#   df_writing = pd.concat([df_writing,preProcessWithWindows(data, activity_writing, 0)],keys=['x','y'],ignore_index=True)\n",
        "df_writing = preProcessWithWindows(data, activity_writing, 0)"
      ],
      "execution_count": 0,
      "outputs": []
    },
    {
      "metadata": {
        "id": "nXU-Za4_e8sw",
        "colab_type": "code",
        "colab": {}
      },
      "cell_type": "code",
      "source": [
        "df_writing.head()"
      ],
      "execution_count": 0,
      "outputs": []
    },
    {
      "metadata": {
        "id": "pifnZQtMke2k",
        "colab_type": "code",
        "colab": {}
      },
      "cell_type": "code",
      "source": [
        "print (pd.DataFrame(df_writing))\n"
      ],
      "execution_count": 0,
      "outputs": []
    },
    {
      "metadata": {
        "id": "x3IrrwRF_j3O",
        "colab_type": "code",
        "colab": {}
      },
      "cell_type": "code",
      "source": [
        "data.plot(alpha=0.5, style='-')\n",
        "data.resample('L').mean().plot(style=':')"
      ],
      "execution_count": 0,
      "outputs": []
    }
  ]
}